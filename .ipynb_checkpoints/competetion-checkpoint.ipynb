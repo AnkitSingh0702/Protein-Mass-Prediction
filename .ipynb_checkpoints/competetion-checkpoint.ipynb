{
 "cells": [
  {
   "cell_type": "code",
   "execution_count": 6,
   "id": "4f6d717b",
   "metadata": {},
   "outputs": [],
   "source": [
    "import numpy as np\n",
    "import pandas as pd\n",
    "import seaborn as sns\n",
    "import matplotlib.pyplot as plt"
   ]
  },
  {
   "cell_type": "code",
   "execution_count": 7,
   "id": "59f93419",
   "metadata": {},
   "outputs": [],
   "source": [
    "train = pd.read_csv('Train.csv')\n",
    "test = pd.read_csv('Test.csv')\n",
    "submission = pd.read_csv('Submission.csv')"
   ]
  },
  {
   "cell_type": "code",
   "execution_count": 8,
   "id": "23935204",
   "metadata": {},
   "outputs": [
    {
     "data": {
      "text/html": [
       "<div>\n",
       "<style scoped>\n",
       "    .dataframe tbody tr th:only-of-type {\n",
       "        vertical-align: middle;\n",
       "    }\n",
       "\n",
       "    .dataframe tbody tr th {\n",
       "        vertical-align: top;\n",
       "    }\n",
       "\n",
       "    .dataframe thead th {\n",
       "        text-align: right;\n",
       "    }\n",
       "</style>\n",
       "<table border=\"1\" class=\"dataframe\">\n",
       "  <thead>\n",
       "    <tr style=\"text-align: right;\">\n",
       "      <th></th>\n",
       "      <th>polar_area</th>\n",
       "      <th>amino_acid_count</th>\n",
       "      <th>isoelectric_point</th>\n",
       "      <th>avg_hydrophobicity</th>\n",
       "      <th>binding_volume</th>\n",
       "      <th>hydrophobic_charge_interaction</th>\n",
       "      <th>protein_mass</th>\n",
       "    </tr>\n",
       "  </thead>\n",
       "  <tbody>\n",
       "    <tr>\n",
       "      <th>0</th>\n",
       "      <td>104.666451</td>\n",
       "      <td>1428</td>\n",
       "      <td>7.367834</td>\n",
       "      <td>0.638777</td>\n",
       "      <td>13.545550</td>\n",
       "      <td>13.588728</td>\n",
       "      <td>497.304337</td>\n",
       "    </tr>\n",
       "    <tr>\n",
       "      <th>1</th>\n",
       "      <td>105.783410</td>\n",
       "      <td>247</td>\n",
       "      <td>5.765440</td>\n",
       "      <td>0.746038</td>\n",
       "      <td>13.832919</td>\n",
       "      <td>13.458571</td>\n",
       "      <td>364.149915</td>\n",
       "    </tr>\n",
       "  </tbody>\n",
       "</table>\n",
       "</div>"
      ],
      "text/plain": [
       "   polar_area  amino_acid_count  isoelectric_point  avg_hydrophobicity  \\\n",
       "0  104.666451              1428           7.367834            0.638777   \n",
       "1  105.783410               247           5.765440            0.746038   \n",
       "\n",
       "   binding_volume  hydrophobic_charge_interaction  protein_mass  \n",
       "0       13.545550                       13.588728    497.304337  \n",
       "1       13.832919                       13.458571    364.149915  "
      ]
     },
     "execution_count": 8,
     "metadata": {},
     "output_type": "execute_result"
    }
   ],
   "source": [
    "train.head(2)"
   ]
  },
  {
   "cell_type": "code",
   "execution_count": 9,
   "id": "5cb1c67c",
   "metadata": {},
   "outputs": [
    {
     "data": {
      "text/html": [
       "<div>\n",
       "<style scoped>\n",
       "    .dataframe tbody tr th:only-of-type {\n",
       "        vertical-align: middle;\n",
       "    }\n",
       "\n",
       "    .dataframe tbody tr th {\n",
       "        vertical-align: top;\n",
       "    }\n",
       "\n",
       "    .dataframe thead th {\n",
       "        text-align: right;\n",
       "    }\n",
       "</style>\n",
       "<table border=\"1\" class=\"dataframe\">\n",
       "  <thead>\n",
       "    <tr style=\"text-align: right;\">\n",
       "      <th></th>\n",
       "      <th>polar_area</th>\n",
       "      <th>amino_acid_count</th>\n",
       "      <th>isoelectric_point</th>\n",
       "      <th>avg_hydrophobicity</th>\n",
       "      <th>binding_volume</th>\n",
       "      <th>hydrophobic_charge_interaction</th>\n",
       "      <th>protein_mass</th>\n",
       "    </tr>\n",
       "  </thead>\n",
       "  <tbody>\n",
       "    <tr>\n",
       "      <th>0</th>\n",
       "      <td>68.356194</td>\n",
       "      <td>651</td>\n",
       "      <td>6.257739</td>\n",
       "      <td>0.657615</td>\n",
       "      <td>6.743080</td>\n",
       "      <td>46.957263</td>\n",
       "      <td>NaN</td>\n",
       "    </tr>\n",
       "    <tr>\n",
       "      <th>1</th>\n",
       "      <td>97.566723</td>\n",
       "      <td>622</td>\n",
       "      <td>7.034115</td>\n",
       "      <td>0.597439</td>\n",
       "      <td>20.563718</td>\n",
       "      <td>36.057837</td>\n",
       "      <td>NaN</td>\n",
       "    </tr>\n",
       "  </tbody>\n",
       "</table>\n",
       "</div>"
      ],
      "text/plain": [
       "   polar_area  amino_acid_count  isoelectric_point  avg_hydrophobicity  \\\n",
       "0   68.356194               651           6.257739            0.657615   \n",
       "1   97.566723               622           7.034115            0.597439   \n",
       "\n",
       "   binding_volume  hydrophobic_charge_interaction  protein_mass  \n",
       "0        6.743080                       46.957263           NaN  \n",
       "1       20.563718                       36.057837           NaN  "
      ]
     },
     "execution_count": 9,
     "metadata": {},
     "output_type": "execute_result"
    }
   ],
   "source": [
    "test.head(2)"
   ]
  },
  {
   "cell_type": "code",
   "execution_count": 10,
   "id": "670ce4f3",
   "metadata": {},
   "outputs": [
    {
     "data": {
      "text/plain": [
       "((14700, 7), (300, 7))"
      ]
     },
     "execution_count": 10,
     "metadata": {},
     "output_type": "execute_result"
    }
   ],
   "source": [
    "train.shape, test.shape"
   ]
  },
  {
   "cell_type": "code",
   "execution_count": 12,
   "id": "2bea4591",
   "metadata": {},
   "outputs": [],
   "source": [
    "# lets merge these file\n",
    "combined = pd.concat([train,test])"
   ]
  },
  {
   "cell_type": "code",
   "execution_count": 13,
   "id": "75a8939e",
   "metadata": {},
   "outputs": [
    {
     "data": {
      "text/html": [
       "<div>\n",
       "<style scoped>\n",
       "    .dataframe tbody tr th:only-of-type {\n",
       "        vertical-align: middle;\n",
       "    }\n",
       "\n",
       "    .dataframe tbody tr th {\n",
       "        vertical-align: top;\n",
       "    }\n",
       "\n",
       "    .dataframe thead th {\n",
       "        text-align: right;\n",
       "    }\n",
       "</style>\n",
       "<table border=\"1\" class=\"dataframe\">\n",
       "  <thead>\n",
       "    <tr style=\"text-align: right;\">\n",
       "      <th></th>\n",
       "      <th>polar_area</th>\n",
       "      <th>amino_acid_count</th>\n",
       "      <th>isoelectric_point</th>\n",
       "      <th>avg_hydrophobicity</th>\n",
       "      <th>binding_volume</th>\n",
       "      <th>hydrophobic_charge_interaction</th>\n",
       "      <th>protein_mass</th>\n",
       "    </tr>\n",
       "  </thead>\n",
       "  <tbody>\n",
       "    <tr>\n",
       "      <th>0</th>\n",
       "      <td>104.666451</td>\n",
       "      <td>1428</td>\n",
       "      <td>7.367834</td>\n",
       "      <td>0.638777</td>\n",
       "      <td>13.545550</td>\n",
       "      <td>13.588728</td>\n",
       "      <td>497.304337</td>\n",
       "    </tr>\n",
       "    <tr>\n",
       "      <th>1</th>\n",
       "      <td>105.783410</td>\n",
       "      <td>247</td>\n",
       "      <td>5.765440</td>\n",
       "      <td>0.746038</td>\n",
       "      <td>13.832919</td>\n",
       "      <td>13.458571</td>\n",
       "      <td>364.149915</td>\n",
       "    </tr>\n",
       "  </tbody>\n",
       "</table>\n",
       "</div>"
      ],
      "text/plain": [
       "   polar_area  amino_acid_count  isoelectric_point  avg_hydrophobicity  \\\n",
       "0  104.666451              1428           7.367834            0.638777   \n",
       "1  105.783410               247           5.765440            0.746038   \n",
       "\n",
       "   binding_volume  hydrophobic_charge_interaction  protein_mass  \n",
       "0       13.545550                       13.588728    497.304337  \n",
       "1       13.832919                       13.458571    364.149915  "
      ]
     },
     "execution_count": 13,
     "metadata": {},
     "output_type": "execute_result"
    }
   ],
   "source": [
    "combined.head(2)"
   ]
  },
  {
   "cell_type": "code",
   "execution_count": 14,
   "id": "9453853f",
   "metadata": {},
   "outputs": [
    {
     "data": {
      "text/plain": [
       "(15000, 7)"
      ]
     },
     "execution_count": 14,
     "metadata": {},
     "output_type": "execute_result"
    }
   ],
   "source": [
    "combined.shape"
   ]
  },
  {
   "cell_type": "code",
   "execution_count": 15,
   "id": "c1c945a5",
   "metadata": {},
   "outputs": [],
   "source": [
    "# Lets Explore the Data"
   ]
  },
  {
   "cell_type": "code",
   "execution_count": 17,
   "id": "7634dfe0",
   "metadata": {},
   "outputs": [
    {
     "data": {
      "image/png": "[encoded data removed]",
      "text/plain": [
       "<Figure size 640x480 with 2 Axes>"
      ]
     },
     "metadata": {},
     "output_type": "display_data"
    }
   ],
   "source": [
    "sns.heatmap(combined.corr(),annot=True,vmin=-1,cmap='rainbow')\n",
    "plt.show()"
   ]
  },
  {
   "cell_type": "markdown",
   "id": "a9d69ece",
   "metadata": {},
   "source": [
    "### Data Preprocessing"
   ]
  },
  {
   "cell_type": "code",
   "execution_count": 19,
   "id": "fd104f40",
   "metadata": {},
   "outputs": [
    {
     "data": {
      "text/plain": [
       "polar_area                          0\n",
       "amino_acid_count                    0\n",
       "isoelectric_point                   0\n",
       "avg_hydrophobicity                  0\n",
       "binding_volume                      0\n",
       "hydrophobic_charge_interaction      0\n",
       "protein_mass                      300\n",
       "dtype: int64"
      ]
     },
     "execution_count": 19,
     "metadata": {},
     "output_type": "execute_result"
    }
   ],
   "source": [
    "# Missing Values\n",
    "combined.isnull().sum()"
   ]
  },
  {
   "cell_type": "code",
   "execution_count": 20,
   "id": "dcecd082",
   "metadata": {},
   "outputs": [],
   "source": [
    "# Outlier treatment"
   ]
  },
  {
   "cell_type": "code",
   "execution_count": 24,
   "id": "b6a0de58",
   "metadata": {},
   "outputs": [
    {
     "data": {
      "image/png": "[encoded data removed]",
      "text/plain": [
       "<Figure size 1000x1500 with 7 Axes>"
      ]
     },
     "metadata": {},
     "output_type": "display_data"
    }
   ],
   "source": [
    "t=1\n",
    "plt.figure(figsize=(10,15))\n",
    "for i in train:\n",
    "    plt.subplot(4,2,t)\n",
    "    sns.boxplot(data=train,x=i)\n",
    "    plt.title(f'Skewness: {round(train[i].skew(),2)}')\n",
    "    t+=1\n",
    "plt.tight_layout()\n",
    "plt.show()"
   ]
  },
  {
   "cell_type": "code",
   "execution_count": 37,
   "id": "80305db8",
   "metadata": {},
   "outputs": [],
   "source": [
    "from sklearn.linear_model import LinearRegression\n",
    "from sklearn.neighbors import KNeighborsRegressor\n",
    "from sklearn.tree import DecisionTreeRegressor\n",
    "\n",
    "from sklearn.ensemble import RandomForestRegressor, StackingRegressor, VotingRegressor\n",
    "from xgboost import XGBRegressor\n",
    "\n",
    "from sklearn.model_selection import train_test_split\n",
    "from sklearn.metrics import r2_score, mean_squared_error"
   ]
  },
  {
   "cell_type": "code",
   "execution_count": 33,
   "id": "89814670",
   "metadata": {},
   "outputs": [],
   "source": [
    "# Train test split\n",
    "x = train.drop(columns='protein_mass')\n",
    "y = train['protein_mass']\n",
    "\n",
    "x_train,x_val,y_train,y_val = train_test_split(x,y,train_size=0.80,random_state=2)"
   ]
  },
  {
   "cell_type": "code",
   "execution_count": 34,
   "id": "93778da5",
   "metadata": {},
   "outputs": [],
   "source": [
    "x_test = test.drop(columns='protein_mass')"
   ]
  },
  {
   "cell_type": "code",
   "execution_count": 35,
   "id": "49e8ba6e",
   "metadata": {},
   "outputs": [
    {
     "data": {
      "text/html": [
       "<div>\n",
       "<style scoped>\n",
       "    .dataframe tbody tr th:only-of-type {\n",
       "        vertical-align: middle;\n",
       "    }\n",
       "\n",
       "    .dataframe tbody tr th {\n",
       "        vertical-align: top;\n",
       "    }\n",
       "\n",
       "    .dataframe thead th {\n",
       "        text-align: right;\n",
       "    }\n",
       "</style>\n",
       "<table border=\"1\" class=\"dataframe\">\n",
       "  <thead>\n",
       "    <tr style=\"text-align: right;\">\n",
       "      <th></th>\n",
       "      <th>polar_area</th>\n",
       "      <th>amino_acid_count</th>\n",
       "      <th>isoelectric_point</th>\n",
       "      <th>avg_hydrophobicity</th>\n",
       "      <th>binding_volume</th>\n",
       "      <th>hydrophobic_charge_interaction</th>\n",
       "    </tr>\n",
       "  </thead>\n",
       "  <tbody>\n",
       "    <tr>\n",
       "      <th>0</th>\n",
       "      <td>68.356194</td>\n",
       "      <td>651</td>\n",
       "      <td>6.257739</td>\n",
       "      <td>0.657615</td>\n",
       "      <td>6.743080</td>\n",
       "      <td>46.957263</td>\n",
       "    </tr>\n",
       "    <tr>\n",
       "      <th>1</th>\n",
       "      <td>97.566723</td>\n",
       "      <td>622</td>\n",
       "      <td>7.034115</td>\n",
       "      <td>0.597439</td>\n",
       "      <td>20.563718</td>\n",
       "      <td>36.057837</td>\n",
       "    </tr>\n",
       "  </tbody>\n",
       "</table>\n",
       "</div>"
      ],
      "text/plain": [
       "   polar_area  amino_acid_count  isoelectric_point  avg_hydrophobicity  \\\n",
       "0   68.356194               651           6.257739            0.657615   \n",
       "1   97.566723               622           7.034115            0.597439   \n",
       "\n",
       "   binding_volume  hydrophobic_charge_interaction  \n",
       "0        6.743080                       46.957263  \n",
       "1       20.563718                       36.057837  "
      ]
     },
     "execution_count": 35,
     "metadata": {},
     "output_type": "execute_result"
    }
   ],
   "source": [
    "x_test.head(2)"
   ]
  },
  {
   "cell_type": "code",
   "execution_count": 36,
   "id": "8d15502f",
   "metadata": {},
   "outputs": [
    {
     "name": "stdout",
     "output_type": "stream",
     "text": [
      "Training data:  (11760, 6) (11760,)\n",
      "Validation data:  (2940, 6) (2940,)\n",
      "Prediction data: (300, 6)\n"
     ]
    }
   ],
   "source": [
    "print('Training data: ',x_train.shape,y_train.shape)\n",
    "print('Validation data: ',x_val.shape,y_val.shape)\n",
    "print('Prediction data:',x_test.shape)"
   ]
  },
  {
   "cell_type": "code",
   "execution_count": null,
   "id": "0399086b",
   "metadata": {},
   "outputs": [],
   "source": [
    "# Linear Regression (Base Model)"
   ]
  },
  {
   "cell_type": "code",
   "execution_count": 38,
   "id": "551b12c9",
   "metadata": {},
   "outputs": [
    {
     "data": {
      "text/html": [
       "<style>#sk-container-id-1 {color: black;background-color: white;}#sk-container-id-1 pre{padding: 0;}#sk-container-id-1 div.sk-toggleable {background-color: white;}#sk-container-id-1 label.sk-toggleable__label {cursor: pointer;display: block;width: 100%;margin-bottom: 0;padding: 0.3em;box-sizing: border-box;text-align: center;}#sk-container-id-1 label.sk-toggleable__label-arrow:before {content: \"▸\";float: left;margin-right: 0.25em;color: #696969;}#sk-container-id-1 label.sk-toggleable__label-arrow:hover:before {color: black;}#sk-container-id-1 div.sk-estimator:hover label.sk-toggleable__label-arrow:before {color: black;}#sk-container-id-1 div.sk-toggleable__content {max-height: 0;max-width: 0;overflow: hidden;text-align: left;background-color: #f0f8ff;}#sk-container-id-1 div.sk-toggleable__content pre {margin: 0.2em;color: black;border-radius: 0.25em;background-color: #f0f8ff;}#sk-container-id-1 input.sk-toggleable__control:checked~div.sk-toggleable__content {max-height: 200px;max-width: 100%;overflow: auto;}#sk-container-id-1 input.sk-toggleable__control:checked~label.sk-toggleable__label-arrow:before {content: \"▾\";}#sk-container-id-1 div.sk-estimator input.sk-toggleable__control:checked~label.sk-toggleable__label {background-color: #d4ebff;}#sk-container-id-1 div.sk-label input.sk-toggleable__control:checked~label.sk-toggleable__label {background-color: #d4ebff;}#sk-container-id-1 input.sk-hidden--visually {border: 0;clip: rect(1px 1px 1px 1px);clip: rect(1px, 1px, 1px, 1px);height: 1px;margin: -1px;overflow: hidden;padding: 0;position: absolute;width: 1px;}#sk-container-id-1 div.sk-estimator {font-family: monospace;background-color: #f0f8ff;border: 1px dotted black;border-radius: 0.25em;box-sizing: border-box;margin-bottom: 0.5em;}#sk-container-id-1 div.sk-estimator:hover {background-color: #d4ebff;}#sk-container-id-1 div.sk-parallel-item::after {content: \"\";width: 100%;border-bottom: 1px solid gray;flex-grow: 1;}#sk-container-id-1 div.sk-label:hover label.sk-toggleable__label {background-color: #d4ebff;}#sk-container-id-1 div.sk-serial::before {content: \"\";position: absolute;border-left: 1px solid gray;box-sizing: border-box;top: 0;bottom: 0;left: 50%;z-index: 0;}#sk-container-id-1 div.sk-serial {display: flex;flex-direction: column;align-items: center;background-color: white;padding-right: 0.2em;padding-left: 0.2em;position: relative;}#sk-container-id-1 div.sk-item {position: relative;z-index: 1;}#sk-container-id-1 div.sk-parallel {display: flex;align-items: stretch;justify-content: center;background-color: white;position: relative;}#sk-container-id-1 div.sk-item::before, #sk-container-id-1 div.sk-parallel-item::before {content: \"\";position: absolute;border-left: 1px solid gray;box-sizing: border-box;top: 0;bottom: 0;left: 50%;z-index: -1;}#sk-container-id-1 div.sk-parallel-item {display: flex;flex-direction: column;z-index: 1;position: relative;background-color: white;}#sk-container-id-1 div.sk-parallel-item:first-child::after {align-self: flex-end;width: 50%;}#sk-container-id-1 div.sk-parallel-item:last-child::after {align-self: flex-start;width: 50%;}#sk-container-id-1 div.sk-parallel-item:only-child::after {width: 0;}#sk-container-id-1 div.sk-dashed-wrapped {border: 1px dashed gray;margin: 0 0.4em 0.5em 0.4em;box-sizing: border-box;padding-bottom: 0.4em;background-color: white;}#sk-container-id-1 div.sk-label label {font-family: monospace;font-weight: bold;display: inline-block;line-height: 1.2em;}#sk-container-id-1 div.sk-label-container {text-align: center;}#sk-container-id-1 div.sk-container {/* jupyter's `normalize.less` sets `[hidden] { display: none; }` but bootstrap.min.css set `[hidden] { display: none !important; }` so we also need the `!important` here to be able to override the default hidden behavior on the sphinx rendered scikit-learn.org. See: https://github.com/scikit-learn/scikit-learn/issues/21755 */display: inline-block !important;position: relative;}#sk-container-id-1 div.sk-text-repr-fallback {display: none;}</style><div id=\"sk-container-id-1\" class=\"sk-top-container\"><div class=\"sk-text-repr-fallback\"><pre>LinearRegression()</pre><b>In a Jupyter environment, please rerun this cell to show the HTML representation or trust the notebook. <br />On GitHub, the HTML representation is unable to render, please try loading this page with nbviewer.org.</b></div><div class=\"sk-container\" hidden><div class=\"sk-item\"><div class=\"sk-estimator sk-toggleable\"><input class=\"sk-toggleable__control sk-hidden--visually\" id=\"sk-estimator-id-1\" type=\"checkbox\" checked><label for=\"sk-estimator-id-1\" class=\"sk-toggleable__label sk-toggleable__label-arrow\">LinearRegression</label><div class=\"sk-toggleable__content\"><pre>LinearRegression()</pre></div></div></div></div></div>"
      ],
      "text/plain": [
       "LinearRegression()"
      ]
     },
     "execution_count": 38,
     "metadata": {},
     "output_type": "execute_result"
    }
   ],
   "source": [
    "model_lr = LinearRegression()\n",
    "model_lr.fit(x_train,y_train)"
   ]
  },
  {
   "cell_type": "code",
   "execution_count": 42,
   "id": "f201456a",
   "metadata": {},
   "outputs": [
    {
     "name": "stdout",
     "output_type": "stream",
     "text": [
      "TEST SCORES\n",
      "R2: 0.3902002659512769\n",
      "RMSE: 95.47795735804931\n"
     ]
    }
   ],
   "source": [
    "pred_lr = model_lr.predict(x_val)\n",
    "print('TEST SCORES')\n",
    "print('R2:',r2_score(y_val,pred_lr))\n",
    "print('RMSE:',mean_squared_error(y_val,pred_lr)**0.5)"
   ]
  },
  {
   "cell_type": "code",
   "execution_count": 43,
   "id": "fb6e1c17",
   "metadata": {},
   "outputs": [
    {
     "name": "stdout",
     "output_type": "stream",
     "text": [
      "TRAIN SCORES\n",
      "R2: 0.4060109633650687\n",
      "RMSE: 94.27936927625498\n"
     ]
    }
   ],
   "source": [
    "pred_lr = model_lr.predict(x_train)\n",
    "print('TRAIN SCORES')\n",
    "print('R2:',r2_score(y_train,pred_lr))\n",
    "print('RMSE:',mean_squared_error(y_train,pred_lr)**0.5)"
   ]
  },
  {
   "cell_type": "code",
   "execution_count": 44,
   "id": "189956f0",
   "metadata": {},
   "outputs": [],
   "source": [
    "# KNN\n",
    "\n",
    "from sklearn.preprocessing import StandardScaler"
   ]
  },
  {
   "cell_type": "code",
   "execution_count": 45,
   "id": "38a6765c",
   "metadata": {},
   "outputs": [],
   "source": [
    "scaler = StandardScaler()"
   ]
  },
  {
   "cell_type": "code",
   "execution_count": 46,
   "id": "a3ca66b8",
   "metadata": {},
   "outputs": [],
   "source": [
    "x_train_s = pd.DataFrame(scaler.fit_transform(x_train),columns=x_train.columns)\n",
    "x_val_s = pd.DataFrame(scaler.transform(x_val),columns=x_val.columns)"
   ]
  },
  {
   "cell_type": "code",
   "execution_count": 51,
   "id": "c21f0e15",
   "metadata": {},
   "outputs": [],
   "source": [
    "model_knn = KNeighborsRegressor(n_neighbors=9)"
   ]
  },
  {
   "cell_type": "code",
   "execution_count": 52,
   "id": "6fef2502",
   "metadata": {},
   "outputs": [
    {
     "data": {
      "text/html": [
       "<style>#sk-container-id-3 {color: black;background-color: white;}#sk-container-id-3 pre{padding: 0;}#sk-container-id-3 div.sk-toggleable {background-color: white;}#sk-container-id-3 label.sk-toggleable__label {cursor: pointer;display: block;width: 100%;margin-bottom: 0;padding: 0.3em;box-sizing: border-box;text-align: center;}#sk-container-id-3 label.sk-toggleable__label-arrow:before {content: \"▸\";float: left;margin-right: 0.25em;color: #696969;}#sk-container-id-3 label.sk-toggleable__label-arrow:hover:before {color: black;}#sk-container-id-3 div.sk-estimator:hover label.sk-toggleable__label-arrow:before {color: black;}#sk-container-id-3 div.sk-toggleable__content {max-height: 0;max-width: 0;overflow: hidden;text-align: left;background-color: #f0f8ff;}#sk-container-id-3 div.sk-toggleable__content pre {margin: 0.2em;color: black;border-radius: 0.25em;background-color: #f0f8ff;}#sk-container-id-3 input.sk-toggleable__control:checked~div.sk-toggleable__content {max-height: 200px;max-width: 100%;overflow: auto;}#sk-container-id-3 input.sk-toggleable__control:checked~label.sk-toggleable__label-arrow:before {content: \"▾\";}#sk-container-id-3 div.sk-estimator input.sk-toggleable__control:checked~label.sk-toggleable__label {background-color: #d4ebff;}#sk-container-id-3 div.sk-label input.sk-toggleable__control:checked~label.sk-toggleable__label {background-color: #d4ebff;}#sk-container-id-3 input.sk-hidden--visually {border: 0;clip: rect(1px 1px 1px 1px);clip: rect(1px, 1px, 1px, 1px);height: 1px;margin: -1px;overflow: hidden;padding: 0;position: absolute;width: 1px;}#sk-container-id-3 div.sk-estimator {font-family: monospace;background-color: #f0f8ff;border: 1px dotted black;border-radius: 0.25em;box-sizing: border-box;margin-bottom: 0.5em;}#sk-container-id-3 div.sk-estimator:hover {background-color: #d4ebff;}#sk-container-id-3 div.sk-parallel-item::after {content: \"\";width: 100%;border-bottom: 1px solid gray;flex-grow: 1;}#sk-container-id-3 div.sk-label:hover label.sk-toggleable__label {background-color: #d4ebff;}#sk-container-id-3 div.sk-serial::before {content: \"\";position: absolute;border-left: 1px solid gray;box-sizing: border-box;top: 0;bottom: 0;left: 50%;z-index: 0;}#sk-container-id-3 div.sk-serial {display: flex;flex-direction: column;align-items: center;background-color: white;padding-right: 0.2em;padding-left: 0.2em;position: relative;}#sk-container-id-3 div.sk-item {position: relative;z-index: 1;}#sk-container-id-3 div.sk-parallel {display: flex;align-items: stretch;justify-content: center;background-color: white;position: relative;}#sk-container-id-3 div.sk-item::before, #sk-container-id-3 div.sk-parallel-item::before {content: \"\";position: absolute;border-left: 1px solid gray;box-sizing: border-box;top: 0;bottom: 0;left: 50%;z-index: -1;}#sk-container-id-3 div.sk-parallel-item {display: flex;flex-direction: column;z-index: 1;position: relative;background-color: white;}#sk-container-id-3 div.sk-parallel-item:first-child::after {align-self: flex-end;width: 50%;}#sk-container-id-3 div.sk-parallel-item:last-child::after {align-self: flex-start;width: 50%;}#sk-container-id-3 div.sk-parallel-item:only-child::after {width: 0;}#sk-container-id-3 div.sk-dashed-wrapped {border: 1px dashed gray;margin: 0 0.4em 0.5em 0.4em;box-sizing: border-box;padding-bottom: 0.4em;background-color: white;}#sk-container-id-3 div.sk-label label {font-family: monospace;font-weight: bold;display: inline-block;line-height: 1.2em;}#sk-container-id-3 div.sk-label-container {text-align: center;}#sk-container-id-3 div.sk-container {/* jupyter's `normalize.less` sets `[hidden] { display: none; }` but bootstrap.min.css set `[hidden] { display: none !important; }` so we also need the `!important` here to be able to override the default hidden behavior on the sphinx rendered scikit-learn.org. See: https://github.com/scikit-learn/scikit-learn/issues/21755 */display: inline-block !important;position: relative;}#sk-container-id-3 div.sk-text-repr-fallback {display: none;}</style><div id=\"sk-container-id-3\" class=\"sk-top-container\"><div class=\"sk-text-repr-fallback\"><pre>KNeighborsRegressor(n_neighbors=9)</pre><b>In a Jupyter environment, please rerun this cell to show the HTML representation or trust the notebook. <br />On GitHub, the HTML representation is unable to render, please try loading this page with nbviewer.org.</b></div><div class=\"sk-container\" hidden><div class=\"sk-item\"><div class=\"sk-estimator sk-toggleable\"><input class=\"sk-toggleable__control sk-hidden--visually\" id=\"sk-estimator-id-3\" type=\"checkbox\" checked><label for=\"sk-estimator-id-3\" class=\"sk-toggleable__label sk-toggleable__label-arrow\">KNeighborsRegressor</label><div class=\"sk-toggleable__content\"><pre>KNeighborsRegressor(n_neighbors=9)</pre></div></div></div></div></div>"
      ],
      "text/plain": [
       "KNeighborsRegressor(n_neighbors=9)"
      ]
     },
     "execution_count": 52,
     "metadata": {},
     "output_type": "execute_result"
    }
   ],
   "source": [
    "model_knn.fit(x_train_s,y_train)"
   ]
  },
  {
   "cell_type": "code",
   "execution_count": 53,
   "id": "309c7214",
   "metadata": {},
   "outputs": [
    {
     "name": "stdout",
     "output_type": "stream",
     "text": [
      "TEST SCORES\n",
      "R2: 0.3148894665849119\n",
      "RMSE: 101.20217033030954\n"
     ]
    }
   ],
   "source": [
    "pred_lr = model_knn.predict(x_val_s)\n",
    "print('TEST SCORES')\n",
    "print('R2:',r2_score(y_val,pred_lr))\n",
    "print('RMSE:',mean_squared_error(y_val,pred_lr)**0.5)"
   ]
  },
  {
   "cell_type": "code",
   "execution_count": 54,
   "id": "caddac00",
   "metadata": {},
   "outputs": [
    {
     "name": "stdout",
     "output_type": "stream",
     "text": [
      "TRAIN SCORES\n",
      "R2: 0.46727964337354366\n",
      "RMSE: 89.2847116050652\n"
     ]
    }
   ],
   "source": [
    "pred_lr = model_knn.predict(x_train_s)\n",
    "print('TRAIN SCORES')\n",
    "print('R2:',r2_score(y_train,pred_lr))\n",
    "print('RMSE:',mean_squared_error(y_train,pred_lr)**0.5)"
   ]
  },
  {
   "cell_type": "code",
   "execution_count": 65,
   "id": "c5d41a60",
   "metadata": {},
   "outputs": [
    {
     "data": {
      "text/html": [
       "<style>#sk-container-id-7 {color: black;background-color: white;}#sk-container-id-7 pre{padding: 0;}#sk-container-id-7 div.sk-toggleable {background-color: white;}#sk-container-id-7 label.sk-toggleable__label {cursor: pointer;display: block;width: 100%;margin-bottom: 0;padding: 0.3em;box-sizing: border-box;text-align: center;}#sk-container-id-7 label.sk-toggleable__label-arrow:before {content: \"▸\";float: left;margin-right: 0.25em;color: #696969;}#sk-container-id-7 label.sk-toggleable__label-arrow:hover:before {color: black;}#sk-container-id-7 div.sk-estimator:hover label.sk-toggleable__label-arrow:before {color: black;}#sk-container-id-7 div.sk-toggleable__content {max-height: 0;max-width: 0;overflow: hidden;text-align: left;background-color: #f0f8ff;}#sk-container-id-7 div.sk-toggleable__content pre {margin: 0.2em;color: black;border-radius: 0.25em;background-color: #f0f8ff;}#sk-container-id-7 input.sk-toggleable__control:checked~div.sk-toggleable__content {max-height: 200px;max-width: 100%;overflow: auto;}#sk-container-id-7 input.sk-toggleable__control:checked~label.sk-toggleable__label-arrow:before {content: \"▾\";}#sk-container-id-7 div.sk-estimator input.sk-toggleable__control:checked~label.sk-toggleable__label {background-color: #d4ebff;}#sk-container-id-7 div.sk-label input.sk-toggleable__control:checked~label.sk-toggleable__label {background-color: #d4ebff;}#sk-container-id-7 input.sk-hidden--visually {border: 0;clip: rect(1px 1px 1px 1px);clip: rect(1px, 1px, 1px, 1px);height: 1px;margin: -1px;overflow: hidden;padding: 0;position: absolute;width: 1px;}#sk-container-id-7 div.sk-estimator {font-family: monospace;background-color: #f0f8ff;border: 1px dotted black;border-radius: 0.25em;box-sizing: border-box;margin-bottom: 0.5em;}#sk-container-id-7 div.sk-estimator:hover {background-color: #d4ebff;}#sk-container-id-7 div.sk-parallel-item::after {content: \"\";width: 100%;border-bottom: 1px solid gray;flex-grow: 1;}#sk-container-id-7 div.sk-label:hover label.sk-toggleable__label {background-color: #d4ebff;}#sk-container-id-7 div.sk-serial::before {content: \"\";position: absolute;border-left: 1px solid gray;box-sizing: border-box;top: 0;bottom: 0;left: 50%;z-index: 0;}#sk-container-id-7 div.sk-serial {display: flex;flex-direction: column;align-items: center;background-color: white;padding-right: 0.2em;padding-left: 0.2em;position: relative;}#sk-container-id-7 div.sk-item {position: relative;z-index: 1;}#sk-container-id-7 div.sk-parallel {display: flex;align-items: stretch;justify-content: center;background-color: white;position: relative;}#sk-container-id-7 div.sk-item::before, #sk-container-id-7 div.sk-parallel-item::before {content: \"\";position: absolute;border-left: 1px solid gray;box-sizing: border-box;top: 0;bottom: 0;left: 50%;z-index: -1;}#sk-container-id-7 div.sk-parallel-item {display: flex;flex-direction: column;z-index: 1;position: relative;background-color: white;}#sk-container-id-7 div.sk-parallel-item:first-child::after {align-self: flex-end;width: 50%;}#sk-container-id-7 div.sk-parallel-item:last-child::after {align-self: flex-start;width: 50%;}#sk-container-id-7 div.sk-parallel-item:only-child::after {width: 0;}#sk-container-id-7 div.sk-dashed-wrapped {border: 1px dashed gray;margin: 0 0.4em 0.5em 0.4em;box-sizing: border-box;padding-bottom: 0.4em;background-color: white;}#sk-container-id-7 div.sk-label label {font-family: monospace;font-weight: bold;display: inline-block;line-height: 1.2em;}#sk-container-id-7 div.sk-label-container {text-align: center;}#sk-container-id-7 div.sk-container {/* jupyter's `normalize.less` sets `[hidden] { display: none; }` but bootstrap.min.css set `[hidden] { display: none !important; }` so we also need the `!important` here to be able to override the default hidden behavior on the sphinx rendered scikit-learn.org. See: https://github.com/scikit-learn/scikit-learn/issues/21755 */display: inline-block !important;position: relative;}#sk-container-id-7 div.sk-text-repr-fallback {display: none;}</style><div id=\"sk-container-id-7\" class=\"sk-top-container\"><div class=\"sk-text-repr-fallback\"><pre>DecisionTreeRegressor(max_depth=4)</pre><b>In a Jupyter environment, please rerun this cell to show the HTML representation or trust the notebook. <br />On GitHub, the HTML representation is unable to render, please try loading this page with nbviewer.org.</b></div><div class=\"sk-container\" hidden><div class=\"sk-item\"><div class=\"sk-estimator sk-toggleable\"><input class=\"sk-toggleable__control sk-hidden--visually\" id=\"sk-estimator-id-7\" type=\"checkbox\" checked><label for=\"sk-estimator-id-7\" class=\"sk-toggleable__label sk-toggleable__label-arrow\">DecisionTreeRegressor</label><div class=\"sk-toggleable__content\"><pre>DecisionTreeRegressor(max_depth=4)</pre></div></div></div></div></div>"
      ],
      "text/plain": [
       "DecisionTreeRegressor(max_depth=4)"
      ]
     },
     "execution_count": 65,
     "metadata": {},
     "output_type": "execute_result"
    }
   ],
   "source": [
    "# Decision Tree\n",
    "\n",
    "model_dt = DecisionTreeRegressor(max_depth=4)\n",
    "model_dt.fit(x_train,y_train)"
   ]
  },
  {
   "cell_type": "code",
   "execution_count": 66,
   "id": "d35650d5",
   "metadata": {},
   "outputs": [
    {
     "name": "stdout",
     "output_type": "stream",
     "text": [
      "TEST SCORES\n",
      "R2: 0.3835860173226715\n",
      "RMSE: 95.99436601797223\n"
     ]
    }
   ],
   "source": [
    "pred_lr = model_dt.predict(x_val)\n",
    "print('TEST SCORES')\n",
    "print('R2:',r2_score(y_val,pred_lr))\n",
    "print('RMSE:',mean_squared_error(y_val,pred_lr)**0.5)"
   ]
  },
  {
   "cell_type": "code",
   "execution_count": 67,
   "id": "32ab9ecd",
   "metadata": {},
   "outputs": [
    {
     "name": "stdout",
     "output_type": "stream",
     "text": [
      "TRAIN SCORES\n",
      "R2: 0.4090910139168623\n",
      "RMSE: 94.03461506110565\n"
     ]
    }
   ],
   "source": [
    "pred_lr = model_dt.predict(x_train)\n",
    "print('TRAIN SCORES')\n",
    "print('R2:',r2_score(y_train,pred_lr))\n",
    "print('RMSE:',mean_squared_error(y_train,pred_lr)**0.5)"
   ]
  },
  {
   "cell_type": "code",
   "execution_count": 68,
   "id": "e6124c28",
   "metadata": {},
   "outputs": [],
   "source": [
    "# XGBoost"
   ]
  },
  {
   "cell_type": "code",
   "execution_count": 85,
   "id": "940603a3",
   "metadata": {},
   "outputs": [],
   "source": [
    "model_xgb = XGBRegressor(n_estimators=50,max_depth=7,reg_alpha = 1 )"
   ]
  },
  {
   "cell_type": "code",
   "execution_count": 86,
   "id": "315917ed",
   "metadata": {},
   "outputs": [
    {
     "data": {
      "text/html": [
       "<style>#sk-container-id-12 {color: black;background-color: white;}#sk-container-id-12 pre{padding: 0;}#sk-container-id-12 div.sk-toggleable {background-color: white;}#sk-container-id-12 label.sk-toggleable__label {cursor: pointer;display: block;width: 100%;margin-bottom: 0;padding: 0.3em;box-sizing: border-box;text-align: center;}#sk-container-id-12 label.sk-toggleable__label-arrow:before {content: \"▸\";float: left;margin-right: 0.25em;color: #696969;}#sk-container-id-12 label.sk-toggleable__label-arrow:hover:before {color: black;}#sk-container-id-12 div.sk-estimator:hover label.sk-toggleable__label-arrow:before {color: black;}#sk-container-id-12 div.sk-toggleable__content {max-height: 0;max-width: 0;overflow: hidden;text-align: left;background-color: #f0f8ff;}#sk-container-id-12 div.sk-toggleable__content pre {margin: 0.2em;color: black;border-radius: 0.25em;background-color: #f0f8ff;}#sk-container-id-12 input.sk-toggleable__control:checked~div.sk-toggleable__content {max-height: 200px;max-width: 100%;overflow: auto;}#sk-container-id-12 input.sk-toggleable__control:checked~label.sk-toggleable__label-arrow:before {content: \"▾\";}#sk-container-id-12 div.sk-estimator input.sk-toggleable__control:checked~label.sk-toggleable__label {background-color: #d4ebff;}#sk-container-id-12 div.sk-label input.sk-toggleable__control:checked~label.sk-toggleable__label {background-color: #d4ebff;}#sk-container-id-12 input.sk-hidden--visually {border: 0;clip: rect(1px 1px 1px 1px);clip: rect(1px, 1px, 1px, 1px);height: 1px;margin: -1px;overflow: hidden;padding: 0;position: absolute;width: 1px;}#sk-container-id-12 div.sk-estimator {font-family: monospace;background-color: #f0f8ff;border: 1px dotted black;border-radius: 0.25em;box-sizing: border-box;margin-bottom: 0.5em;}#sk-container-id-12 div.sk-estimator:hover {background-color: #d4ebff;}#sk-container-id-12 div.sk-parallel-item::after {content: \"\";width: 100%;border-bottom: 1px solid gray;flex-grow: 1;}#sk-container-id-12 div.sk-label:hover label.sk-toggleable__label {background-color: #d4ebff;}#sk-container-id-12 div.sk-serial::before {content: \"\";position: absolute;border-left: 1px solid gray;box-sizing: border-box;top: 0;bottom: 0;left: 50%;z-index: 0;}#sk-container-id-12 div.sk-serial {display: flex;flex-direction: column;align-items: center;background-color: white;padding-right: 0.2em;padding-left: 0.2em;position: relative;}#sk-container-id-12 div.sk-item {position: relative;z-index: 1;}#sk-container-id-12 div.sk-parallel {display: flex;align-items: stretch;justify-content: center;background-color: white;position: relative;}#sk-container-id-12 div.sk-item::before, #sk-container-id-12 div.sk-parallel-item::before {content: \"\";position: absolute;border-left: 1px solid gray;box-sizing: border-box;top: 0;bottom: 0;left: 50%;z-index: -1;}#sk-container-id-12 div.sk-parallel-item {display: flex;flex-direction: column;z-index: 1;position: relative;background-color: white;}#sk-container-id-12 div.sk-parallel-item:first-child::after {align-self: flex-end;width: 50%;}#sk-container-id-12 div.sk-parallel-item:last-child::after {align-self: flex-start;width: 50%;}#sk-container-id-12 div.sk-parallel-item:only-child::after {width: 0;}#sk-container-id-12 div.sk-dashed-wrapped {border: 1px dashed gray;margin: 0 0.4em 0.5em 0.4em;box-sizing: border-box;padding-bottom: 0.4em;background-color: white;}#sk-container-id-12 div.sk-label label {font-family: monospace;font-weight: bold;display: inline-block;line-height: 1.2em;}#sk-container-id-12 div.sk-label-container {text-align: center;}#sk-container-id-12 div.sk-container {/* jupyter's `normalize.less` sets `[hidden] { display: none; }` but bootstrap.min.css set `[hidden] { display: none !important; }` so we also need the `!important` here to be able to override the default hidden behavior on the sphinx rendered scikit-learn.org. See: https://github.com/scikit-learn/scikit-learn/issues/21755 */display: inline-block !important;position: relative;}#sk-container-id-12 div.sk-text-repr-fallback {display: none;}</style><div id=\"sk-container-id-12\" class=\"sk-top-container\"><div class=\"sk-text-repr-fallback\"><pre>XGBRegressor(base_score=None, booster=None, callbacks=None,\n",
       "             colsample_bylevel=None, colsample_bynode=None,\n",
       "             colsample_bytree=None, device=None, early_stopping_rounds=None,\n",
       "             enable_categorical=False, eval_metric=None, feature_types=None,\n",
       "             feature_weights=None, gamma=None, grow_policy=None,\n",
       "             importance_type=None, interaction_constraints=None,\n",
       "             learning_rate=None, max_bin=None, max_cat_threshold=None,\n",
       "             max_cat_to_onehot=None, max_delta_step=None, max_depth=7,\n",
       "             max_leaves=None, min_child_weight=None, missing=nan,\n",
       "             monotone_constraints=None, multi_strategy=None, n_estimators=50,\n",
       "             n_jobs=None, num_parallel_tree=None, ...)</pre><b>In a Jupyter environment, please rerun this cell to show the HTML representation or trust the notebook. <br />On GitHub, the HTML representation is unable to render, please try loading this page with nbviewer.org.</b></div><div class=\"sk-container\" hidden><div class=\"sk-item\"><div class=\"sk-estimator sk-toggleable\"><input class=\"sk-toggleable__control sk-hidden--visually\" id=\"sk-estimator-id-12\" type=\"checkbox\" checked><label for=\"sk-estimator-id-12\" class=\"sk-toggleable__label sk-toggleable__label-arrow\">XGBRegressor</label><div class=\"sk-toggleable__content\"><pre>XGBRegressor(base_score=None, booster=None, callbacks=None,\n",
       "             colsample_bylevel=None, colsample_bynode=None,\n",
       "             colsample_bytree=None, device=None, early_stopping_rounds=None,\n",
       "             enable_categorical=False, eval_metric=None, feature_types=None,\n",
       "             feature_weights=None, gamma=None, grow_policy=None,\n",
       "             importance_type=None, interaction_constraints=None,\n",
       "             learning_rate=None, max_bin=None, max_cat_threshold=None,\n",
       "             max_cat_to_onehot=None, max_delta_step=None, max_depth=7,\n",
       "             max_leaves=None, min_child_weight=None, missing=nan,\n",
       "             monotone_constraints=None, multi_strategy=None, n_estimators=50,\n",
       "             n_jobs=None, num_parallel_tree=None, ...)</pre></div></div></div></div></div>"
      ],
      "text/plain": [
       "XGBRegressor(base_score=None, booster=None, callbacks=None,\n",
       "             colsample_bylevel=None, colsample_bynode=None,\n",
       "             colsample_bytree=None, device=None, early_stopping_rounds=None,\n",
       "             enable_categorical=False, eval_metric=None, feature_types=None,\n",
       "             feature_weights=None, gamma=None, grow_policy=None,\n",
       "             importance_type=None, interaction_constraints=None,\n",
       "             learning_rate=None, max_bin=None, max_cat_threshold=None,\n",
       "             max_cat_to_onehot=None, max_delta_step=None, max_depth=7,\n",
       "             max_leaves=None, min_child_weight=None, missing=nan,\n",
       "             monotone_constraints=None, multi_strategy=None, n_estimators=50,\n",
       "             n_jobs=None, num_parallel_tree=None, ...)"
      ]
     },
     "execution_count": 86,
     "metadata": {},
     "output_type": "execute_result"
    }
   ],
   "source": [
    "model_xgb.fit(x_train,y_train)"
   ]
  },
  {
   "cell_type": "code",
   "execution_count": 87,
   "id": "571417ea",
   "metadata": {},
   "outputs": [
    {
     "name": "stdout",
     "output_type": "stream",
     "text": [
      "TEST SCORES\n",
      "R2: 0.3229928416660375\n",
      "RMSE: 100.601888701787\n"
     ]
    }
   ],
   "source": [
    "pred_lr = model_xgb.predict(x_val)\n",
    "print('TEST SCORES')\n",
    "print('R2:',r2_score(y_val,pred_lr))\n",
    "print('RMSE:',mean_squared_error(y_val,pred_lr)**0.5)"
   ]
  },
  {
   "cell_type": "code",
   "execution_count": 88,
   "id": "e65833f8",
   "metadata": {},
   "outputs": [
    {
     "name": "stdout",
     "output_type": "stream",
     "text": [
      "TRAIN SCORES\n",
      "R2: 0.7057807831223606\n",
      "RMSE: 66.35336792904349\n"
     ]
    }
   ],
   "source": [
    "pred_lr = model_xgb.predict(x_train)\n",
    "print('TRAIN SCORES')\n",
    "print('R2:',r2_score(y_train,pred_lr))\n",
    "print('RMSE:',mean_squared_error(y_train,pred_lr)**0.5)"
   ]
  },
  {
   "cell_type": "code",
   "execution_count": 89,
   "id": "827ae091",
   "metadata": {},
   "outputs": [],
   "source": [
    "# Fine tune the XGB\n",
    "from sklearn.model_selection import GridSearchCV"
   ]
  },
  {
   "cell_type": "code",
   "execution_count": 100,
   "id": "19ae7cb5",
   "metadata": {},
   "outputs": [],
   "source": [
    "grid = {'n_estimators':[40,50,60,75],\n",
    "       'max_depth':[3,4,5,6],\n",
    "       'reg_lambda':[6,7,9]}"
   ]
  },
  {
   "cell_type": "code",
   "execution_count": 101,
   "id": "030a5d32",
   "metadata": {},
   "outputs": [],
   "source": [
    "gscv = GridSearchCV(estimator=XGBRegressor(),param_grid=grid,cv=5,\n",
    "                   verbose=3,scoring='r2')"
   ]
  },
  {
   "cell_type": "code",
   "execution_count": 102,
   "id": "912724b5",
   "metadata": {},
   "outputs": [
    {
     "name": "stdout",
     "output_type": "stream",
     "text": [
      "Fitting 5 folds for each of 48 candidates, totalling 240 fits\n",
      "[CV 1/5] END max_depth=3, n_estimators=40, reg_lambda=6;, score=0.387 total time=   0.0s\n",
      "[CV 2/5] END max_depth=3, n_estimators=40, reg_lambda=6;, score=0.389 total time=   0.0s\n",
      "[CV 3/5] END max_depth=3, n_estimators=40, reg_lambda=6;, score=0.402 total time=   0.0s\n",
      "[CV 4/5] END max_depth=3, n_estimators=40, reg_lambda=6;, score=0.407 total time=   0.0s\n",
      "[CV 5/5] END max_depth=3, n_estimators=40, reg_lambda=6;, score=0.404 total time=   0.0s\n",
      "[CV 1/5] END max_depth=3, n_estimators=40, reg_lambda=7;, score=0.385 total time=   0.0s\n",
      "[CV 2/5] END max_depth=3, n_estimators=40, reg_lambda=7;, score=0.391 total time=   0.0s\n",
      "[CV 3/5] END max_depth=3, n_estimators=40, reg_lambda=7;, score=0.400 total time=   0.0s\n",
      "[CV 4/5] END max_depth=3, n_estimators=40, reg_lambda=7;, score=0.407 total time=   0.0s\n",
      "[CV 5/5] END max_depth=3, n_estimators=40, reg_lambda=7;, score=0.402 total time=   0.0s\n",
      "[CV 1/5] END max_depth=3, n_estimators=40, reg_lambda=9;, score=0.387 total time=   0.0s\n",
      "[CV 2/5] END max_depth=3, n_estimators=40, reg_lambda=9;, score=0.392 total time=   0.0s\n",
      "[CV 3/5] END max_depth=3, n_estimators=40, reg_lambda=9;, score=0.402 total time=   0.0s\n",
      "[CV 4/5] END max_depth=3, n_estimators=40, reg_lambda=9;, score=0.405 total time=   0.0s\n",
      "[CV 5/5] END max_depth=3, n_estimators=40, reg_lambda=9;, score=0.406 total time=   0.0s\n",
      "[CV 1/5] END max_depth=3, n_estimators=50, reg_lambda=6;, score=0.386 total time=   0.0s\n",
      "[CV 2/5] END max_depth=3, n_estimators=50, reg_lambda=6;, score=0.387 total time=   0.0s\n",
      "[CV 3/5] END max_depth=3, n_estimators=50, reg_lambda=6;, score=0.398 total time=   0.0s\n",
      "[CV 4/5] END max_depth=3, n_estimators=50, reg_lambda=6;, score=0.406 total time=   0.0s\n",
      "[CV 5/5] END max_depth=3, n_estimators=50, reg_lambda=6;, score=0.400 total time=   0.0s\n",
      "[CV 1/5] END max_depth=3, n_estimators=50, reg_lambda=7;, score=0.385 total time=   0.0s\n",
      "[CV 2/5] END max_depth=3, n_estimators=50, reg_lambda=7;, score=0.388 total time=   0.0s\n",
      "[CV 3/5] END max_depth=3, n_estimators=50, reg_lambda=7;, score=0.398 total time=   0.0s\n",
      "[CV 4/5] END max_depth=3, n_estimators=50, reg_lambda=7;, score=0.406 total time=   0.0s\n",
      "[CV 5/5] END max_depth=3, n_estimators=50, reg_lambda=7;, score=0.401 total time=   0.0s\n",
      "[CV 1/5] END max_depth=3, n_estimators=50, reg_lambda=9;, score=0.384 total time=   0.0s\n",
      "[CV 2/5] END max_depth=3, n_estimators=50, reg_lambda=9;, score=0.391 total time=   0.0s\n",
      "[CV 3/5] END max_depth=3, n_estimators=50, reg_lambda=9;, score=0.400 total time=   0.0s\n",
      "[CV 4/5] END max_depth=3, n_estimators=50, reg_lambda=9;, score=0.404 total time=   0.0s\n",
      "[CV 5/5] END max_depth=3, n_estimators=50, reg_lambda=9;, score=0.405 total time=   0.0s\n",
      "[CV 1/5] END max_depth=3, n_estimators=60, reg_lambda=6;, score=0.383 total time=   0.0s\n",
      "[CV 2/5] END max_depth=3, n_estimators=60, reg_lambda=6;, score=0.384 total time=   0.0s\n",
      "[CV 3/5] END max_depth=3, n_estimators=60, reg_lambda=6;, score=0.395 total time=   0.0s\n",
      "[CV 4/5] END max_depth=3, n_estimators=60, reg_lambda=6;, score=0.405 total time=   0.0s\n",
      "[CV 5/5] END max_depth=3, n_estimators=60, reg_lambda=6;, score=0.397 total time=   0.0s\n",
      "[CV 1/5] END max_depth=3, n_estimators=60, reg_lambda=7;, score=0.384 total time=   0.0s\n",
      "[CV 2/5] END max_depth=3, n_estimators=60, reg_lambda=7;, score=0.387 total time=   0.0s\n",
      "[CV 3/5] END max_depth=3, n_estimators=60, reg_lambda=7;, score=0.395 total time=   0.0s\n",
      "[CV 4/5] END max_depth=3, n_estimators=60, reg_lambda=7;, score=0.403 total time=   0.0s\n",
      "[CV 5/5] END max_depth=3, n_estimators=60, reg_lambda=7;, score=0.399 total time=   0.0s\n",
      "[CV 1/5] END max_depth=3, n_estimators=60, reg_lambda=9;, score=0.382 total time=   0.0s\n",
      "[CV 2/5] END max_depth=3, n_estimators=60, reg_lambda=9;, score=0.388 total time=   0.0s\n",
      "[CV 3/5] END max_depth=3, n_estimators=60, reg_lambda=9;, score=0.397 total time=   0.0s\n",
      "[CV 4/5] END max_depth=3, n_estimators=60, reg_lambda=9;, score=0.403 total time=   0.0s\n",
      "[CV 5/5] END max_depth=3, n_estimators=60, reg_lambda=9;, score=0.401 total time=   0.0s\n",
      "[CV 1/5] END max_depth=3, n_estimators=75, reg_lambda=6;, score=0.384 total time=   0.0s\n",
      "[CV 2/5] END max_depth=3, n_estimators=75, reg_lambda=6;, score=0.384 total time=   0.1s\n",
      "[CV 3/5] END max_depth=3, n_estimators=75, reg_lambda=6;, score=0.391 total time=   0.0s\n",
      "[CV 4/5] END max_depth=3, n_estimators=75, reg_lambda=6;, score=0.402 total time=   0.0s\n",
      "[CV 5/5] END max_depth=3, n_estimators=75, reg_lambda=6;, score=0.393 total time=   0.0s\n",
      "[CV 1/5] END max_depth=3, n_estimators=75, reg_lambda=7;, score=0.382 total time=   0.0s\n",
      "[CV 2/5] END max_depth=3, n_estimators=75, reg_lambda=7;, score=0.384 total time=   0.0s\n",
      "[CV 3/5] END max_depth=3, n_estimators=75, reg_lambda=7;, score=0.393 total time=   0.0s\n",
      "[CV 4/5] END max_depth=3, n_estimators=75, reg_lambda=7;, score=0.400 total time=   0.0s\n",
      "[CV 5/5] END max_depth=3, n_estimators=75, reg_lambda=7;, score=0.396 total time=   0.0s\n",
      "[CV 1/5] END max_depth=3, n_estimators=75, reg_lambda=9;, score=0.380 total time=   0.0s\n",
      "[CV 2/5] END max_depth=3, n_estimators=75, reg_lambda=9;, score=0.385 total time=   0.0s\n",
      "[CV 3/5] END max_depth=3, n_estimators=75, reg_lambda=9;, score=0.396 total time=   0.0s\n",
      "[CV 4/5] END max_depth=3, n_estimators=75, reg_lambda=9;, score=0.401 total time=   0.0s\n",
      "[CV 5/5] END max_depth=3, n_estimators=75, reg_lambda=9;, score=0.399 total time=   0.0s\n",
      "[CV 1/5] END max_depth=4, n_estimators=40, reg_lambda=6;, score=0.378 total time=   0.0s\n",
      "[CV 2/5] END max_depth=4, n_estimators=40, reg_lambda=6;, score=0.382 total time=   0.0s\n",
      "[CV 3/5] END max_depth=4, n_estimators=40, reg_lambda=6;, score=0.393 total time=   0.0s\n",
      "[CV 4/5] END max_depth=4, n_estimators=40, reg_lambda=6;, score=0.397 total time=   0.0s\n",
      "[CV 5/5] END max_depth=4, n_estimators=40, reg_lambda=6;, score=0.395 total time=   0.0s\n",
      "[CV 1/5] END max_depth=4, n_estimators=40, reg_lambda=7;, score=0.381 total time=   0.0s\n",
      "[CV 2/5] END max_depth=4, n_estimators=40, reg_lambda=7;, score=0.382 total time=   0.0s\n",
      "[CV 3/5] END max_depth=4, n_estimators=40, reg_lambda=7;, score=0.394 total time=   0.0s\n",
      "[CV 4/5] END max_depth=4, n_estimators=40, reg_lambda=7;, score=0.394 total time=   0.0s\n",
      "[CV 5/5] END max_depth=4, n_estimators=40, reg_lambda=7;, score=0.392 total time=   0.0s\n",
      "[CV 1/5] END max_depth=4, n_estimators=40, reg_lambda=9;, score=0.379 total time=   0.0s\n",
      "[CV 2/5] END max_depth=4, n_estimators=40, reg_lambda=9;, score=0.383 total time=   0.0s\n",
      "[CV 3/5] END max_depth=4, n_estimators=40, reg_lambda=9;, score=0.392 total time=   0.0s\n",
      "[CV 4/5] END max_depth=4, n_estimators=40, reg_lambda=9;, score=0.392 total time=   0.0s\n",
      "[CV 5/5] END max_depth=4, n_estimators=40, reg_lambda=9;, score=0.395 total time=   0.0s\n",
      "[CV 1/5] END max_depth=4, n_estimators=50, reg_lambda=6;, score=0.376 total time=   0.0s\n",
      "[CV 2/5] END max_depth=4, n_estimators=50, reg_lambda=6;, score=0.379 total time=   0.0s\n",
      "[CV 3/5] END max_depth=4, n_estimators=50, reg_lambda=6;, score=0.387 total time=   0.0s\n",
      "[CV 4/5] END max_depth=4, n_estimators=50, reg_lambda=6;, score=0.393 total time=   0.0s\n",
      "[CV 5/5] END max_depth=4, n_estimators=50, reg_lambda=6;, score=0.388 total time=   0.0s\n",
      "[CV 1/5] END max_depth=4, n_estimators=50, reg_lambda=7;, score=0.377 total time=   0.0s\n",
      "[CV 2/5] END max_depth=4, n_estimators=50, reg_lambda=7;, score=0.377 total time=   0.0s\n",
      "[CV 3/5] END max_depth=4, n_estimators=50, reg_lambda=7;, score=0.391 total time=   0.0s\n",
      "[CV 4/5] END max_depth=4, n_estimators=50, reg_lambda=7;, score=0.391 total time=   0.0s\n",
      "[CV 5/5] END max_depth=4, n_estimators=50, reg_lambda=7;, score=0.387 total time=   0.0s\n",
      "[CV 1/5] END max_depth=4, n_estimators=50, reg_lambda=9;, score=0.377 total time=   0.0s\n",
      "[CV 2/5] END max_depth=4, n_estimators=50, reg_lambda=9;, score=0.381 total time=   0.0s\n",
      "[CV 3/5] END max_depth=4, n_estimators=50, reg_lambda=9;, score=0.389 total time=   0.0s\n",
      "[CV 4/5] END max_depth=4, n_estimators=50, reg_lambda=9;, score=0.388 total time=   0.0s\n",
      "[CV 5/5] END max_depth=4, n_estimators=50, reg_lambda=9;, score=0.391 total time=   0.0s\n",
      "[CV 1/5] END max_depth=4, n_estimators=60, reg_lambda=6;, score=0.374 total time=   0.0s\n",
      "[CV 2/5] END max_depth=4, n_estimators=60, reg_lambda=6;, score=0.374 total time=   0.0s\n",
      "[CV 3/5] END max_depth=4, n_estimators=60, reg_lambda=6;, score=0.386 total time=   0.0s\n"
     ]
    },
    {
     "name": "stdout",
     "output_type": "stream",
     "text": [
      "[CV 4/5] END max_depth=4, n_estimators=60, reg_lambda=6;, score=0.391 total time=   0.0s\n",
      "[CV 5/5] END max_depth=4, n_estimators=60, reg_lambda=6;, score=0.384 total time=   0.0s\n",
      "[CV 1/5] END max_depth=4, n_estimators=60, reg_lambda=7;, score=0.374 total time=   0.0s\n",
      "[CV 2/5] END max_depth=4, n_estimators=60, reg_lambda=7;, score=0.374 total time=   0.0s\n",
      "[CV 3/5] END max_depth=4, n_estimators=60, reg_lambda=7;, score=0.387 total time=   0.0s\n",
      "[CV 4/5] END max_depth=4, n_estimators=60, reg_lambda=7;, score=0.388 total time=   0.0s\n",
      "[CV 5/5] END max_depth=4, n_estimators=60, reg_lambda=7;, score=0.383 total time=   0.0s\n",
      "[CV 1/5] END max_depth=4, n_estimators=60, reg_lambda=9;, score=0.376 total time=   0.0s\n",
      "[CV 2/5] END max_depth=4, n_estimators=60, reg_lambda=9;, score=0.378 total time=   0.0s\n",
      "[CV 3/5] END max_depth=4, n_estimators=60, reg_lambda=9;, score=0.386 total time=   0.0s\n",
      "[CV 4/5] END max_depth=4, n_estimators=60, reg_lambda=9;, score=0.386 total time=   0.0s\n",
      "[CV 5/5] END max_depth=4, n_estimators=60, reg_lambda=9;, score=0.388 total time=   0.0s\n",
      "[CV 1/5] END max_depth=4, n_estimators=75, reg_lambda=6;, score=0.368 total time=   0.0s\n",
      "[CV 2/5] END max_depth=4, n_estimators=75, reg_lambda=6;, score=0.370 total time=   0.0s\n",
      "[CV 3/5] END max_depth=4, n_estimators=75, reg_lambda=6;, score=0.380 total time=   0.0s\n",
      "[CV 4/5] END max_depth=4, n_estimators=75, reg_lambda=6;, score=0.386 total time=   0.0s\n",
      "[CV 5/5] END max_depth=4, n_estimators=75, reg_lambda=6;, score=0.377 total time=   0.0s\n",
      "[CV 1/5] END max_depth=4, n_estimators=75, reg_lambda=7;, score=0.369 total time=   0.0s\n",
      "[CV 2/5] END max_depth=4, n_estimators=75, reg_lambda=7;, score=0.370 total time=   0.0s\n",
      "[CV 3/5] END max_depth=4, n_estimators=75, reg_lambda=7;, score=0.383 total time=   0.0s\n",
      "[CV 4/5] END max_depth=4, n_estimators=75, reg_lambda=7;, score=0.381 total time=   0.0s\n",
      "[CV 5/5] END max_depth=4, n_estimators=75, reg_lambda=7;, score=0.378 total time=   0.0s\n",
      "[CV 1/5] END max_depth=4, n_estimators=75, reg_lambda=9;, score=0.373 total time=   0.0s\n",
      "[CV 2/5] END max_depth=4, n_estimators=75, reg_lambda=9;, score=0.373 total time=   0.0s\n",
      "[CV 3/5] END max_depth=4, n_estimators=75, reg_lambda=9;, score=0.381 total time=   0.0s\n",
      "[CV 4/5] END max_depth=4, n_estimators=75, reg_lambda=9;, score=0.383 total time=   0.0s\n",
      "[CV 5/5] END max_depth=4, n_estimators=75, reg_lambda=9;, score=0.381 total time=   0.0s\n",
      "[CV 1/5] END max_depth=5, n_estimators=40, reg_lambda=6;, score=0.371 total time=   0.0s\n",
      "[CV 2/5] END max_depth=5, n_estimators=40, reg_lambda=6;, score=0.372 total time=   0.0s\n",
      "[CV 3/5] END max_depth=5, n_estimators=40, reg_lambda=6;, score=0.381 total time=   0.0s\n",
      "[CV 4/5] END max_depth=5, n_estimators=40, reg_lambda=6;, score=0.380 total time=   0.0s\n",
      "[CV 5/5] END max_depth=5, n_estimators=40, reg_lambda=6;, score=0.384 total time=   0.0s\n",
      "[CV 1/5] END max_depth=5, n_estimators=40, reg_lambda=7;, score=0.366 total time=   0.0s\n",
      "[CV 2/5] END max_depth=5, n_estimators=40, reg_lambda=7;, score=0.371 total time=   0.0s\n",
      "[CV 3/5] END max_depth=5, n_estimators=40, reg_lambda=7;, score=0.394 total time=   0.0s\n",
      "[CV 4/5] END max_depth=5, n_estimators=40, reg_lambda=7;, score=0.387 total time=   0.0s\n",
      "[CV 5/5] END max_depth=5, n_estimators=40, reg_lambda=7;, score=0.379 total time=   0.0s\n",
      "[CV 1/5] END max_depth=5, n_estimators=40, reg_lambda=9;, score=0.369 total time=   0.0s\n",
      "[CV 2/5] END max_depth=5, n_estimators=40, reg_lambda=9;, score=0.369 total time=   0.0s\n",
      "[CV 3/5] END max_depth=5, n_estimators=40, reg_lambda=9;, score=0.388 total time=   0.0s\n",
      "[CV 4/5] END max_depth=5, n_estimators=40, reg_lambda=9;, score=0.384 total time=   0.0s\n",
      "[CV 5/5] END max_depth=5, n_estimators=40, reg_lambda=9;, score=0.378 total time=   0.0s\n",
      "[CV 1/5] END max_depth=5, n_estimators=50, reg_lambda=6;, score=0.366 total time=   0.0s\n",
      "[CV 2/5] END max_depth=5, n_estimators=50, reg_lambda=6;, score=0.366 total time=   0.0s\n",
      "[CV 3/5] END max_depth=5, n_estimators=50, reg_lambda=6;, score=0.374 total time=   0.0s\n",
      "[CV 4/5] END max_depth=5, n_estimators=50, reg_lambda=6;, score=0.375 total time=   0.0s\n",
      "[CV 5/5] END max_depth=5, n_estimators=50, reg_lambda=6;, score=0.379 total time=   0.0s\n",
      "[CV 1/5] END max_depth=5, n_estimators=50, reg_lambda=7;, score=0.361 total time=   0.0s\n",
      "[CV 2/5] END max_depth=5, n_estimators=50, reg_lambda=7;, score=0.364 total time=   0.0s\n",
      "[CV 3/5] END max_depth=5, n_estimators=50, reg_lambda=7;, score=0.387 total time=   0.0s\n",
      "[CV 4/5] END max_depth=5, n_estimators=50, reg_lambda=7;, score=0.384 total time=   0.0s\n",
      "[CV 5/5] END max_depth=5, n_estimators=50, reg_lambda=7;, score=0.379 total time=   0.0s\n",
      "[CV 1/5] END max_depth=5, n_estimators=50, reg_lambda=9;, score=0.364 total time=   0.0s\n",
      "[CV 2/5] END max_depth=5, n_estimators=50, reg_lambda=9;, score=0.368 total time=   0.0s\n",
      "[CV 3/5] END max_depth=5, n_estimators=50, reg_lambda=9;, score=0.380 total time=   0.0s\n",
      "[CV 4/5] END max_depth=5, n_estimators=50, reg_lambda=9;, score=0.379 total time=   0.0s\n",
      "[CV 5/5] END max_depth=5, n_estimators=50, reg_lambda=9;, score=0.373 total time=   0.0s\n",
      "[CV 1/5] END max_depth=5, n_estimators=60, reg_lambda=6;, score=0.364 total time=   0.0s\n",
      "[CV 2/5] END max_depth=5, n_estimators=60, reg_lambda=6;, score=0.362 total time=   0.0s\n",
      "[CV 3/5] END max_depth=5, n_estimators=60, reg_lambda=6;, score=0.366 total time=   0.0s\n",
      "[CV 4/5] END max_depth=5, n_estimators=60, reg_lambda=6;, score=0.369 total time=   0.0s\n",
      "[CV 5/5] END max_depth=5, n_estimators=60, reg_lambda=6;, score=0.374 total time=   0.0s\n",
      "[CV 1/5] END max_depth=5, n_estimators=60, reg_lambda=7;, score=0.359 total time=   0.0s\n",
      "[CV 2/5] END max_depth=5, n_estimators=60, reg_lambda=7;, score=0.358 total time=   0.0s\n",
      "[CV 3/5] END max_depth=5, n_estimators=60, reg_lambda=7;, score=0.382 total time=   0.0s\n",
      "[CV 4/5] END max_depth=5, n_estimators=60, reg_lambda=7;, score=0.375 total time=   0.0s\n",
      "[CV 5/5] END max_depth=5, n_estimators=60, reg_lambda=7;, score=0.371 total time=   0.0s\n",
      "[CV 1/5] END max_depth=5, n_estimators=60, reg_lambda=9;, score=0.356 total time=   0.0s\n",
      "[CV 2/5] END max_depth=5, n_estimators=60, reg_lambda=9;, score=0.366 total time=   0.0s\n",
      "[CV 3/5] END max_depth=5, n_estimators=60, reg_lambda=9;, score=0.375 total time=   0.0s\n",
      "[CV 4/5] END max_depth=5, n_estimators=60, reg_lambda=9;, score=0.377 total time=   0.2s\n",
      "[CV 5/5] END max_depth=5, n_estimators=60, reg_lambda=9;, score=0.368 total time=   0.1s\n",
      "[CV 1/5] END max_depth=5, n_estimators=75, reg_lambda=6;, score=0.357 total time=   0.1s\n",
      "[CV 2/5] END max_depth=5, n_estimators=75, reg_lambda=6;, score=0.353 total time=   0.1s\n",
      "[CV 3/5] END max_depth=5, n_estimators=75, reg_lambda=6;, score=0.356 total time=   0.2s\n",
      "[CV 4/5] END max_depth=5, n_estimators=75, reg_lambda=6;, score=0.360 total time=   0.0s\n",
      "[CV 5/5] END max_depth=5, n_estimators=75, reg_lambda=6;, score=0.367 total time=   0.1s\n",
      "[CV 1/5] END max_depth=5, n_estimators=75, reg_lambda=7;, score=0.352 total time=   0.0s\n",
      "[CV 2/5] END max_depth=5, n_estimators=75, reg_lambda=7;, score=0.352 total time=   0.1s\n",
      "[CV 3/5] END max_depth=5, n_estimators=75, reg_lambda=7;, score=0.377 total time=   0.1s\n",
      "[CV 4/5] END max_depth=5, n_estimators=75, reg_lambda=7;, score=0.369 total time=   0.2s\n",
      "[CV 5/5] END max_depth=5, n_estimators=75, reg_lambda=7;, score=0.364 total time=   0.0s\n",
      "[CV 1/5] END max_depth=5, n_estimators=75, reg_lambda=9;, score=0.353 total time=   0.1s\n",
      "[CV 2/5] END max_depth=5, n_estimators=75, reg_lambda=9;, score=0.358 total time=   0.1s\n",
      "[CV 3/5] END max_depth=5, n_estimators=75, reg_lambda=9;, score=0.370 total time=   0.1s\n",
      "[CV 4/5] END max_depth=5, n_estimators=75, reg_lambda=9;, score=0.372 total time=   0.1s\n",
      "[CV 5/5] END max_depth=5, n_estimators=75, reg_lambda=9;, score=0.362 total time=   0.1s\n",
      "[CV 1/5] END max_depth=6, n_estimators=40, reg_lambda=6;, score=0.352 total time=   0.0s\n",
      "[CV 2/5] END max_depth=6, n_estimators=40, reg_lambda=6;, score=0.351 total time=   0.1s\n",
      "[CV 3/5] END max_depth=6, n_estimators=40, reg_lambda=6;, score=0.372 total time=   0.0s\n",
      "[CV 4/5] END max_depth=6, n_estimators=40, reg_lambda=6;, score=0.372 total time=   0.0s\n",
      "[CV 5/5] END max_depth=6, n_estimators=40, reg_lambda=6;, score=0.371 total time=   0.0s\n",
      "[CV 1/5] END max_depth=6, n_estimators=40, reg_lambda=7;, score=0.352 total time=   0.0s\n"
     ]
    },
    {
     "name": "stdout",
     "output_type": "stream",
     "text": [
      "[CV 2/5] END max_depth=6, n_estimators=40, reg_lambda=7;, score=0.360 total time=   0.0s\n",
      "[CV 3/5] END max_depth=6, n_estimators=40, reg_lambda=7;, score=0.373 total time=   0.0s\n",
      "[CV 4/5] END max_depth=6, n_estimators=40, reg_lambda=7;, score=0.380 total time=   0.0s\n",
      "[CV 5/5] END max_depth=6, n_estimators=40, reg_lambda=7;, score=0.372 total time=   0.0s\n",
      "[CV 1/5] END max_depth=6, n_estimators=40, reg_lambda=9;, score=0.362 total time=   0.0s\n",
      "[CV 2/5] END max_depth=6, n_estimators=40, reg_lambda=9;, score=0.369 total time=   0.0s\n",
      "[CV 3/5] END max_depth=6, n_estimators=40, reg_lambda=9;, score=0.377 total time=   0.0s\n",
      "[CV 4/5] END max_depth=6, n_estimators=40, reg_lambda=9;, score=0.373 total time=   0.0s\n",
      "[CV 5/5] END max_depth=6, n_estimators=40, reg_lambda=9;, score=0.372 total time=   0.0s\n",
      "[CV 1/5] END max_depth=6, n_estimators=50, reg_lambda=6;, score=0.346 total time=   0.0s\n",
      "[CV 2/5] END max_depth=6, n_estimators=50, reg_lambda=6;, score=0.346 total time=   0.0s\n",
      "[CV 3/5] END max_depth=6, n_estimators=50, reg_lambda=6;, score=0.364 total time=   0.0s\n",
      "[CV 4/5] END max_depth=6, n_estimators=50, reg_lambda=6;, score=0.367 total time=   0.0s\n",
      "[CV 5/5] END max_depth=6, n_estimators=50, reg_lambda=6;, score=0.367 total time=   0.0s\n",
      "[CV 1/5] END max_depth=6, n_estimators=50, reg_lambda=7;, score=0.345 total time=   0.1s\n",
      "[CV 2/5] END max_depth=6, n_estimators=50, reg_lambda=7;, score=0.356 total time=   0.0s\n",
      "[CV 3/5] END max_depth=6, n_estimators=50, reg_lambda=7;, score=0.369 total time=   0.0s\n",
      "[CV 4/5] END max_depth=6, n_estimators=50, reg_lambda=7;, score=0.372 total time=   0.0s\n",
      "[CV 5/5] END max_depth=6, n_estimators=50, reg_lambda=7;, score=0.368 total time=   0.0s\n",
      "[CV 1/5] END max_depth=6, n_estimators=50, reg_lambda=9;, score=0.357 total time=   0.0s\n",
      "[CV 2/5] END max_depth=6, n_estimators=50, reg_lambda=9;, score=0.359 total time=   0.1s\n",
      "[CV 3/5] END max_depth=6, n_estimators=50, reg_lambda=9;, score=0.370 total time=   0.0s\n",
      "[CV 4/5] END max_depth=6, n_estimators=50, reg_lambda=9;, score=0.365 total time=   0.0s\n",
      "[CV 5/5] END max_depth=6, n_estimators=50, reg_lambda=9;, score=0.364 total time=   0.1s\n",
      "[CV 1/5] END max_depth=6, n_estimators=60, reg_lambda=6;, score=0.337 total time=   0.1s\n",
      "[CV 2/5] END max_depth=6, n_estimators=60, reg_lambda=6;, score=0.344 total time=   0.1s\n",
      "[CV 3/5] END max_depth=6, n_estimators=60, reg_lambda=6;, score=0.357 total time=   0.2s\n",
      "[CV 4/5] END max_depth=6, n_estimators=60, reg_lambda=6;, score=0.358 total time=   0.0s\n",
      "[CV 5/5] END max_depth=6, n_estimators=60, reg_lambda=6;, score=0.363 total time=   0.1s\n",
      "[CV 1/5] END max_depth=6, n_estimators=60, reg_lambda=7;, score=0.339 total time=   0.1s\n",
      "[CV 2/5] END max_depth=6, n_estimators=60, reg_lambda=7;, score=0.350 total time=   0.1s\n",
      "[CV 3/5] END max_depth=6, n_estimators=60, reg_lambda=7;, score=0.362 total time=   0.1s\n",
      "[CV 4/5] END max_depth=6, n_estimators=60, reg_lambda=7;, score=0.367 total time=   0.1s\n",
      "[CV 5/5] END max_depth=6, n_estimators=60, reg_lambda=7;, score=0.364 total time=   0.0s\n",
      "[CV 1/5] END max_depth=6, n_estimators=60, reg_lambda=9;, score=0.349 total time=   0.1s\n",
      "[CV 2/5] END max_depth=6, n_estimators=60, reg_lambda=9;, score=0.356 total time=   0.1s\n",
      "[CV 3/5] END max_depth=6, n_estimators=60, reg_lambda=9;, score=0.363 total time=   0.0s\n",
      "[CV 4/5] END max_depth=6, n_estimators=60, reg_lambda=9;, score=0.361 total time=   0.0s\n",
      "[CV 5/5] END max_depth=6, n_estimators=60, reg_lambda=9;, score=0.359 total time=   0.0s\n",
      "[CV 1/5] END max_depth=6, n_estimators=75, reg_lambda=6;, score=0.329 total time=   0.1s\n",
      "[CV 2/5] END max_depth=6, n_estimators=75, reg_lambda=6;, score=0.334 total time=   0.1s\n",
      "[CV 3/5] END max_depth=6, n_estimators=75, reg_lambda=6;, score=0.351 total time=   0.1s\n",
      "[CV 4/5] END max_depth=6, n_estimators=75, reg_lambda=6;, score=0.343 total time=   0.1s\n",
      "[CV 5/5] END max_depth=6, n_estimators=75, reg_lambda=6;, score=0.354 total time=   0.0s\n",
      "[CV 1/5] END max_depth=6, n_estimators=75, reg_lambda=7;, score=0.332 total time=   0.1s\n",
      "[CV 2/5] END max_depth=6, n_estimators=75, reg_lambda=7;, score=0.340 total time=   0.1s\n",
      "[CV 3/5] END max_depth=6, n_estimators=75, reg_lambda=7;, score=0.352 total time=   0.1s\n",
      "[CV 4/5] END max_depth=6, n_estimators=75, reg_lambda=7;, score=0.353 total time=   0.1s\n",
      "[CV 5/5] END max_depth=6, n_estimators=75, reg_lambda=7;, score=0.351 total time=   0.1s\n",
      "[CV 1/5] END max_depth=6, n_estimators=75, reg_lambda=9;, score=0.339 total time=   0.1s\n",
      "[CV 2/5] END max_depth=6, n_estimators=75, reg_lambda=9;, score=0.349 total time=   0.1s\n",
      "[CV 3/5] END max_depth=6, n_estimators=75, reg_lambda=9;, score=0.357 total time=   0.1s\n",
      "[CV 4/5] END max_depth=6, n_estimators=75, reg_lambda=9;, score=0.351 total time=   0.1s\n",
      "[CV 5/5] END max_depth=6, n_estimators=75, reg_lambda=9;, score=0.351 total time=   0.1s\n"
     ]
    },
    {
     "data": {
      "text/html": [
       "<style>#sk-container-id-15 {color: black;background-color: white;}#sk-container-id-15 pre{padding: 0;}#sk-container-id-15 div.sk-toggleable {background-color: white;}#sk-container-id-15 label.sk-toggleable__label {cursor: pointer;display: block;width: 100%;margin-bottom: 0;padding: 0.3em;box-sizing: border-box;text-align: center;}#sk-container-id-15 label.sk-toggleable__label-arrow:before {content: \"▸\";float: left;margin-right: 0.25em;color: #696969;}#sk-container-id-15 label.sk-toggleable__label-arrow:hover:before {color: black;}#sk-container-id-15 div.sk-estimator:hover label.sk-toggleable__label-arrow:before {color: black;}#sk-container-id-15 div.sk-toggleable__content {max-height: 0;max-width: 0;overflow: hidden;text-align: left;background-color: #f0f8ff;}#sk-container-id-15 div.sk-toggleable__content pre {margin: 0.2em;color: black;border-radius: 0.25em;background-color: #f0f8ff;}#sk-container-id-15 input.sk-toggleable__control:checked~div.sk-toggleable__content {max-height: 200px;max-width: 100%;overflow: auto;}#sk-container-id-15 input.sk-toggleable__control:checked~label.sk-toggleable__label-arrow:before {content: \"▾\";}#sk-container-id-15 div.sk-estimator input.sk-toggleable__control:checked~label.sk-toggleable__label {background-color: #d4ebff;}#sk-container-id-15 div.sk-label input.sk-toggleable__control:checked~label.sk-toggleable__label {background-color: #d4ebff;}#sk-container-id-15 input.sk-hidden--visually {border: 0;clip: rect(1px 1px 1px 1px);clip: rect(1px, 1px, 1px, 1px);height: 1px;margin: -1px;overflow: hidden;padding: 0;position: absolute;width: 1px;}#sk-container-id-15 div.sk-estimator {font-family: monospace;background-color: #f0f8ff;border: 1px dotted black;border-radius: 0.25em;box-sizing: border-box;margin-bottom: 0.5em;}#sk-container-id-15 div.sk-estimator:hover {background-color: #d4ebff;}#sk-container-id-15 div.sk-parallel-item::after {content: \"\";width: 100%;border-bottom: 1px solid gray;flex-grow: 1;}#sk-container-id-15 div.sk-label:hover label.sk-toggleable__label {background-color: #d4ebff;}#sk-container-id-15 div.sk-serial::before {content: \"\";position: absolute;border-left: 1px solid gray;box-sizing: border-box;top: 0;bottom: 0;left: 50%;z-index: 0;}#sk-container-id-15 div.sk-serial {display: flex;flex-direction: column;align-items: center;background-color: white;padding-right: 0.2em;padding-left: 0.2em;position: relative;}#sk-container-id-15 div.sk-item {position: relative;z-index: 1;}#sk-container-id-15 div.sk-parallel {display: flex;align-items: stretch;justify-content: center;background-color: white;position: relative;}#sk-container-id-15 div.sk-item::before, #sk-container-id-15 div.sk-parallel-item::before {content: \"\";position: absolute;border-left: 1px solid gray;box-sizing: border-box;top: 0;bottom: 0;left: 50%;z-index: -1;}#sk-container-id-15 div.sk-parallel-item {display: flex;flex-direction: column;z-index: 1;position: relative;background-color: white;}#sk-container-id-15 div.sk-parallel-item:first-child::after {align-self: flex-end;width: 50%;}#sk-container-id-15 div.sk-parallel-item:last-child::after {align-self: flex-start;width: 50%;}#sk-container-id-15 div.sk-parallel-item:only-child::after {width: 0;}#sk-container-id-15 div.sk-dashed-wrapped {border: 1px dashed gray;margin: 0 0.4em 0.5em 0.4em;box-sizing: border-box;padding-bottom: 0.4em;background-color: white;}#sk-container-id-15 div.sk-label label {font-family: monospace;font-weight: bold;display: inline-block;line-height: 1.2em;}#sk-container-id-15 div.sk-label-container {text-align: center;}#sk-container-id-15 div.sk-container {/* jupyter's `normalize.less` sets `[hidden] { display: none; }` but bootstrap.min.css set `[hidden] { display: none !important; }` so we also need the `!important` here to be able to override the default hidden behavior on the sphinx rendered scikit-learn.org. See: https://github.com/scikit-learn/scikit-learn/issues/21755 */display: inline-block !important;position: relative;}#sk-container-id-15 div.sk-text-repr-fallback {display: none;}</style><div id=\"sk-container-id-15\" class=\"sk-top-container\"><div class=\"sk-text-repr-fallback\"><pre>GridSearchCV(cv=5,\n",
       "             estimator=XGBRegressor(base_score=None, booster=None,\n",
       "                                    callbacks=None, colsample_bylevel=None,\n",
       "                                    colsample_bynode=None,\n",
       "                                    colsample_bytree=None, device=None,\n",
       "                                    early_stopping_rounds=None,\n",
       "                                    enable_categorical=False, eval_metric=None,\n",
       "                                    feature_types=None, feature_weights=None,\n",
       "                                    gamma=None, grow_policy=None,\n",
       "                                    importance_type=None,\n",
       "                                    interaction_constraints=None,\n",
       "                                    learning_rate=None, max_bin=None,\n",
       "                                    max_cat_threshold=None,\n",
       "                                    max_cat_to_onehot=None, max_delta_step=None,\n",
       "                                    max_depth=None, max_leaves=None,\n",
       "                                    min_child_weight=None, missing=nan,\n",
       "                                    monotone_constraints=None,\n",
       "                                    multi_strategy=None, n_estimators=None,\n",
       "                                    n_jobs=None, num_parallel_tree=None, ...),\n",
       "             param_grid={&#x27;max_depth&#x27;: [3, 4, 5, 6],\n",
       "                         &#x27;n_estimators&#x27;: [40, 50, 60, 75],\n",
       "                         &#x27;reg_lambda&#x27;: [6, 7, 9]},\n",
       "             scoring=&#x27;r2&#x27;, verbose=3)</pre><b>In a Jupyter environment, please rerun this cell to show the HTML representation or trust the notebook. <br />On GitHub, the HTML representation is unable to render, please try loading this page with nbviewer.org.</b></div><div class=\"sk-container\" hidden><div class=\"sk-item sk-dashed-wrapped\"><div class=\"sk-label-container\"><div class=\"sk-label sk-toggleable\"><input class=\"sk-toggleable__control sk-hidden--visually\" id=\"sk-estimator-id-19\" type=\"checkbox\" ><label for=\"sk-estimator-id-19\" class=\"sk-toggleable__label sk-toggleable__label-arrow\">GridSearchCV</label><div class=\"sk-toggleable__content\"><pre>GridSearchCV(cv=5,\n",
       "             estimator=XGBRegressor(base_score=None, booster=None,\n",
       "                                    callbacks=None, colsample_bylevel=None,\n",
       "                                    colsample_bynode=None,\n",
       "                                    colsample_bytree=None, device=None,\n",
       "                                    early_stopping_rounds=None,\n",
       "                                    enable_categorical=False, eval_metric=None,\n",
       "                                    feature_types=None, feature_weights=None,\n",
       "                                    gamma=None, grow_policy=None,\n",
       "                                    importance_type=None,\n",
       "                                    interaction_constraints=None,\n",
       "                                    learning_rate=None, max_bin=None,\n",
       "                                    max_cat_threshold=None,\n",
       "                                    max_cat_to_onehot=None, max_delta_step=None,\n",
       "                                    max_depth=None, max_leaves=None,\n",
       "                                    min_child_weight=None, missing=nan,\n",
       "                                    monotone_constraints=None,\n",
       "                                    multi_strategy=None, n_estimators=None,\n",
       "                                    n_jobs=None, num_parallel_tree=None, ...),\n",
       "             param_grid={&#x27;max_depth&#x27;: [3, 4, 5, 6],\n",
       "                         &#x27;n_estimators&#x27;: [40, 50, 60, 75],\n",
       "                         &#x27;reg_lambda&#x27;: [6, 7, 9]},\n",
       "             scoring=&#x27;r2&#x27;, verbose=3)</pre></div></div></div><div class=\"sk-parallel\"><div class=\"sk-parallel-item\"><div class=\"sk-item\"><div class=\"sk-label-container\"><div class=\"sk-label sk-toggleable\"><input class=\"sk-toggleable__control sk-hidden--visually\" id=\"sk-estimator-id-20\" type=\"checkbox\" ><label for=\"sk-estimator-id-20\" class=\"sk-toggleable__label sk-toggleable__label-arrow\">estimator: XGBRegressor</label><div class=\"sk-toggleable__content\"><pre>XGBRegressor(base_score=None, booster=None, callbacks=None,\n",
       "             colsample_bylevel=None, colsample_bynode=None,\n",
       "             colsample_bytree=None, device=None, early_stopping_rounds=None,\n",
       "             enable_categorical=False, eval_metric=None, feature_types=None,\n",
       "             feature_weights=None, gamma=None, grow_policy=None,\n",
       "             importance_type=None, interaction_constraints=None,\n",
       "             learning_rate=None, max_bin=None, max_cat_threshold=None,\n",
       "             max_cat_to_onehot=None, max_delta_step=None, max_depth=None,\n",
       "             max_leaves=None, min_child_weight=None, missing=nan,\n",
       "             monotone_constraints=None, multi_strategy=None, n_estimators=None,\n",
       "             n_jobs=None, num_parallel_tree=None, ...)</pre></div></div></div><div class=\"sk-serial\"><div class=\"sk-item\"><div class=\"sk-estimator sk-toggleable\"><input class=\"sk-toggleable__control sk-hidden--visually\" id=\"sk-estimator-id-21\" type=\"checkbox\" ><label for=\"sk-estimator-id-21\" class=\"sk-toggleable__label sk-toggleable__label-arrow\">XGBRegressor</label><div class=\"sk-toggleable__content\"><pre>XGBRegressor(base_score=None, booster=None, callbacks=None,\n",
       "             colsample_bylevel=None, colsample_bynode=None,\n",
       "             colsample_bytree=None, device=None, early_stopping_rounds=None,\n",
       "             enable_categorical=False, eval_metric=None, feature_types=None,\n",
       "             feature_weights=None, gamma=None, grow_policy=None,\n",
       "             importance_type=None, interaction_constraints=None,\n",
       "             learning_rate=None, max_bin=None, max_cat_threshold=None,\n",
       "             max_cat_to_onehot=None, max_delta_step=None, max_depth=None,\n",
       "             max_leaves=None, min_child_weight=None, missing=nan,\n",
       "             monotone_constraints=None, multi_strategy=None, n_estimators=None,\n",
       "             n_jobs=None, num_parallel_tree=None, ...)</pre></div></div></div></div></div></div></div></div></div></div>"
      ],
      "text/plain": [
       "GridSearchCV(cv=5,\n",
       "             estimator=XGBRegressor(base_score=None, booster=None,\n",
       "                                    callbacks=None, colsample_bylevel=None,\n",
       "                                    colsample_bynode=None,\n",
       "                                    colsample_bytree=None, device=None,\n",
       "                                    early_stopping_rounds=None,\n",
       "                                    enable_categorical=False, eval_metric=None,\n",
       "                                    feature_types=None, feature_weights=None,\n",
       "                                    gamma=None, grow_policy=None,\n",
       "                                    importance_type=None,\n",
       "                                    interaction_constraints=None,\n",
       "                                    learning_rate=None, max_bin=None,\n",
       "                                    max_cat_threshold=None,\n",
       "                                    max_cat_to_onehot=None, max_delta_step=None,\n",
       "                                    max_depth=None, max_leaves=None,\n",
       "                                    min_child_weight=None, missing=nan,\n",
       "                                    monotone_constraints=None,\n",
       "                                    multi_strategy=None, n_estimators=None,\n",
       "                                    n_jobs=None, num_parallel_tree=None, ...),\n",
       "             param_grid={'max_depth': [3, 4, 5, 6],\n",
       "                         'n_estimators': [40, 50, 60, 75],\n",
       "                         'reg_lambda': [6, 7, 9]},\n",
       "             scoring='r2', verbose=3)"
      ]
     },
     "execution_count": 102,
     "metadata": {},
     "output_type": "execute_result"
    }
   ],
   "source": [
    "gscv.fit(x_train,y_train)"
   ]
  },
  {
   "cell_type": "code",
   "execution_count": 103,
   "id": "5720fd6f",
   "metadata": {},
   "outputs": [
    {
     "data": {
      "text/plain": [
       "{'max_depth': 3, 'n_estimators': 40, 'reg_lambda': 9}"
      ]
     },
     "execution_count": 103,
     "metadata": {},
     "output_type": "execute_result"
    }
   ],
   "source": [
    "gscv.best_params_"
   ]
  },
  {
   "cell_type": "code",
   "execution_count": 104,
   "id": "e938a9bf",
   "metadata": {},
   "outputs": [
    {
     "data": {
      "text/plain": [
       "0.3982386218554046"
      ]
     },
     "execution_count": 104,
     "metadata": {},
     "output_type": "execute_result"
    }
   ],
   "source": [
    "gscv.best_score_"
   ]
  },
  {
   "cell_type": "code",
   "execution_count": 105,
   "id": "f26fa26b",
   "metadata": {},
   "outputs": [],
   "source": [
    "model_xgb = XGBRegressor(**gscv.best_params_)"
   ]
  },
  {
   "cell_type": "code",
   "execution_count": 106,
   "id": "ae851cfe",
   "metadata": {},
   "outputs": [
    {
     "data": {
      "text/html": [
       "<style>#sk-container-id-16 {color: black;background-color: white;}#sk-container-id-16 pre{padding: 0;}#sk-container-id-16 div.sk-toggleable {background-color: white;}#sk-container-id-16 label.sk-toggleable__label {cursor: pointer;display: block;width: 100%;margin-bottom: 0;padding: 0.3em;box-sizing: border-box;text-align: center;}#sk-container-id-16 label.sk-toggleable__label-arrow:before {content: \"▸\";float: left;margin-right: 0.25em;color: #696969;}#sk-container-id-16 label.sk-toggleable__label-arrow:hover:before {color: black;}#sk-container-id-16 div.sk-estimator:hover label.sk-toggleable__label-arrow:before {color: black;}#sk-container-id-16 div.sk-toggleable__content {max-height: 0;max-width: 0;overflow: hidden;text-align: left;background-color: #f0f8ff;}#sk-container-id-16 div.sk-toggleable__content pre {margin: 0.2em;color: black;border-radius: 0.25em;background-color: #f0f8ff;}#sk-container-id-16 input.sk-toggleable__control:checked~div.sk-toggleable__content {max-height: 200px;max-width: 100%;overflow: auto;}#sk-container-id-16 input.sk-toggleable__control:checked~label.sk-toggleable__label-arrow:before {content: \"▾\";}#sk-container-id-16 div.sk-estimator input.sk-toggleable__control:checked~label.sk-toggleable__label {background-color: #d4ebff;}#sk-container-id-16 div.sk-label input.sk-toggleable__control:checked~label.sk-toggleable__label {background-color: #d4ebff;}#sk-container-id-16 input.sk-hidden--visually {border: 0;clip: rect(1px 1px 1px 1px);clip: rect(1px, 1px, 1px, 1px);height: 1px;margin: -1px;overflow: hidden;padding: 0;position: absolute;width: 1px;}#sk-container-id-16 div.sk-estimator {font-family: monospace;background-color: #f0f8ff;border: 1px dotted black;border-radius: 0.25em;box-sizing: border-box;margin-bottom: 0.5em;}#sk-container-id-16 div.sk-estimator:hover {background-color: #d4ebff;}#sk-container-id-16 div.sk-parallel-item::after {content: \"\";width: 100%;border-bottom: 1px solid gray;flex-grow: 1;}#sk-container-id-16 div.sk-label:hover label.sk-toggleable__label {background-color: #d4ebff;}#sk-container-id-16 div.sk-serial::before {content: \"\";position: absolute;border-left: 1px solid gray;box-sizing: border-box;top: 0;bottom: 0;left: 50%;z-index: 0;}#sk-container-id-16 div.sk-serial {display: flex;flex-direction: column;align-items: center;background-color: white;padding-right: 0.2em;padding-left: 0.2em;position: relative;}#sk-container-id-16 div.sk-item {position: relative;z-index: 1;}#sk-container-id-16 div.sk-parallel {display: flex;align-items: stretch;justify-content: center;background-color: white;position: relative;}#sk-container-id-16 div.sk-item::before, #sk-container-id-16 div.sk-parallel-item::before {content: \"\";position: absolute;border-left: 1px solid gray;box-sizing: border-box;top: 0;bottom: 0;left: 50%;z-index: -1;}#sk-container-id-16 div.sk-parallel-item {display: flex;flex-direction: column;z-index: 1;position: relative;background-color: white;}#sk-container-id-16 div.sk-parallel-item:first-child::after {align-self: flex-end;width: 50%;}#sk-container-id-16 div.sk-parallel-item:last-child::after {align-self: flex-start;width: 50%;}#sk-container-id-16 div.sk-parallel-item:only-child::after {width: 0;}#sk-container-id-16 div.sk-dashed-wrapped {border: 1px dashed gray;margin: 0 0.4em 0.5em 0.4em;box-sizing: border-box;padding-bottom: 0.4em;background-color: white;}#sk-container-id-16 div.sk-label label {font-family: monospace;font-weight: bold;display: inline-block;line-height: 1.2em;}#sk-container-id-16 div.sk-label-container {text-align: center;}#sk-container-id-16 div.sk-container {/* jupyter's `normalize.less` sets `[hidden] { display: none; }` but bootstrap.min.css set `[hidden] { display: none !important; }` so we also need the `!important` here to be able to override the default hidden behavior on the sphinx rendered scikit-learn.org. See: https://github.com/scikit-learn/scikit-learn/issues/21755 */display: inline-block !important;position: relative;}#sk-container-id-16 div.sk-text-repr-fallback {display: none;}</style><div id=\"sk-container-id-16\" class=\"sk-top-container\"><div class=\"sk-text-repr-fallback\"><pre>XGBRegressor(base_score=None, booster=None, callbacks=None,\n",
       "             colsample_bylevel=None, colsample_bynode=None,\n",
       "             colsample_bytree=None, device=None, early_stopping_rounds=None,\n",
       "             enable_categorical=False, eval_metric=None, feature_types=None,\n",
       "             feature_weights=None, gamma=None, grow_policy=None,\n",
       "             importance_type=None, interaction_constraints=None,\n",
       "             learning_rate=None, max_bin=None, max_cat_threshold=None,\n",
       "             max_cat_to_onehot=None, max_delta_step=None, max_depth=3,\n",
       "             max_leaves=None, min_child_weight=None, missing=nan,\n",
       "             monotone_constraints=None, multi_strategy=None, n_estimators=40,\n",
       "             n_jobs=None, num_parallel_tree=None, ...)</pre><b>In a Jupyter environment, please rerun this cell to show the HTML representation or trust the notebook. <br />On GitHub, the HTML representation is unable to render, please try loading this page with nbviewer.org.</b></div><div class=\"sk-container\" hidden><div class=\"sk-item\"><div class=\"sk-estimator sk-toggleable\"><input class=\"sk-toggleable__control sk-hidden--visually\" id=\"sk-estimator-id-22\" type=\"checkbox\" checked><label for=\"sk-estimator-id-22\" class=\"sk-toggleable__label sk-toggleable__label-arrow\">XGBRegressor</label><div class=\"sk-toggleable__content\"><pre>XGBRegressor(base_score=None, booster=None, callbacks=None,\n",
       "             colsample_bylevel=None, colsample_bynode=None,\n",
       "             colsample_bytree=None, device=None, early_stopping_rounds=None,\n",
       "             enable_categorical=False, eval_metric=None, feature_types=None,\n",
       "             feature_weights=None, gamma=None, grow_policy=None,\n",
       "             importance_type=None, interaction_constraints=None,\n",
       "             learning_rate=None, max_bin=None, max_cat_threshold=None,\n",
       "             max_cat_to_onehot=None, max_delta_step=None, max_depth=3,\n",
       "             max_leaves=None, min_child_weight=None, missing=nan,\n",
       "             monotone_constraints=None, multi_strategy=None, n_estimators=40,\n",
       "             n_jobs=None, num_parallel_tree=None, ...)</pre></div></div></div></div></div>"
      ],
      "text/plain": [
       "XGBRegressor(base_score=None, booster=None, callbacks=None,\n",
       "             colsample_bylevel=None, colsample_bynode=None,\n",
       "             colsample_bytree=None, device=None, early_stopping_rounds=None,\n",
       "             enable_categorical=False, eval_metric=None, feature_types=None,\n",
       "             feature_weights=None, gamma=None, grow_policy=None,\n",
       "             importance_type=None, interaction_constraints=None,\n",
       "             learning_rate=None, max_bin=None, max_cat_threshold=None,\n",
       "             max_cat_to_onehot=None, max_delta_step=None, max_depth=3,\n",
       "             max_leaves=None, min_child_weight=None, missing=nan,\n",
       "             monotone_constraints=None, multi_strategy=None, n_estimators=40,\n",
       "             n_jobs=None, num_parallel_tree=None, ...)"
      ]
     },
     "execution_count": 106,
     "metadata": {},
     "output_type": "execute_result"
    }
   ],
   "source": [
    "model_xgb.fit(x_train,y_train)"
   ]
  },
  {
   "cell_type": "code",
   "execution_count": 107,
   "id": "4208a3a1",
   "metadata": {},
   "outputs": [
    {
     "data": {
      "text/plain": [
       "0.38090388660181784"
      ]
     },
     "execution_count": 107,
     "metadata": {},
     "output_type": "execute_result"
    }
   ],
   "source": [
    "model_xgb.score(x_val,y_val)"
   ]
  },
  {
   "cell_type": "code",
   "execution_count": 108,
   "id": "69aaf552",
   "metadata": {},
   "outputs": [],
   "source": [
    "# Submission"
   ]
  },
  {
   "cell_type": "code",
   "execution_count": 109,
   "id": "b4dd39cb",
   "metadata": {},
   "outputs": [],
   "source": [
    "pred = model_xgb.predict(x_test)"
   ]
  },
  {
   "cell_type": "code",
   "execution_count": 112,
   "id": "50fc6536",
   "metadata": {},
   "outputs": [],
   "source": [
    "submission['protein_mass']=pred"
   ]
  },
  {
   "cell_type": "code",
   "execution_count": 114,
   "id": "96f3296d",
   "metadata": {},
   "outputs": [],
   "source": [
    "submission.to_csv('final_submission.csv',index=False)"
   ]
  },
  {
   "cell_type": "code",
   "execution_count": null,
   "id": "2d9c6e38",
   "metadata": {},
   "outputs": [],
   "source": []
  }
 ],
 "metadata": {
  "kernelspec": {
   "display_name": "Python 3 (ipykernel)",
   "language": "python",
   "name": "python3"
  },
  "language_info": {
   "codemirror_mode": {
    "name": "ipython",
    "version": 3
   },
   "file_extension": ".py",
   "mimetype": "text/x-python",
   "name": "python",
   "nbconvert_exporter": "python",
   "pygments_lexer": "ipython3",
   "version": "3.11.3"
  }
 },
 "nbformat": 4,
 "nbformat_minor": 5
}
